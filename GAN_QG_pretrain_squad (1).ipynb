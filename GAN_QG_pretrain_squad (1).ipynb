{
  "nbformat": 4,
  "nbformat_minor": 0,
  "metadata": {
    "colab": {
      "name": "GAN_QG_pretrain_squad.ipynb",
      "provenance": [],
      "collapsed_sections": [],
      "machine_shape": "hm"
    },
    "kernelspec": {
      "name": "python3",
      "display_name": "Python 3"
    },
    "accelerator": "GPU",
    "widgets": {
      "application/vnd.jupyter.widget-state+json": {
        "d5cc2e99599e405e9574c1c8a71d98c8": {
          "model_module": "@jupyter-widgets/controls",
          "model_name": "HBoxModel",
          "state": {
            "_view_name": "HBoxView",
            "_dom_classes": [],
            "_model_name": "HBoxModel",
            "_view_module": "@jupyter-widgets/controls",
            "_model_module_version": "1.5.0",
            "_view_count": null,
            "_view_module_version": "1.5.0",
            "box_style": "",
            "layout": "IPY_MODEL_d5e45cd77cd84948b9e94f2fe6078b01",
            "_model_module": "@jupyter-widgets/controls",
            "children": [
              "IPY_MODEL_40702566c2ed477693f05d8845bea044",
              "IPY_MODEL_618c6f25036342f6a0b074a18a687456"
            ]
          }
        },
        "d5e45cd77cd84948b9e94f2fe6078b01": {
          "model_module": "@jupyter-widgets/base",
          "model_name": "LayoutModel",
          "state": {
            "_view_name": "LayoutView",
            "grid_template_rows": null,
            "right": null,
            "justify_content": null,
            "_view_module": "@jupyter-widgets/base",
            "overflow": null,
            "_model_module_version": "1.2.0",
            "_view_count": null,
            "flex_flow": null,
            "width": null,
            "min_width": null,
            "border": null,
            "align_items": null,
            "bottom": null,
            "_model_module": "@jupyter-widgets/base",
            "top": null,
            "grid_column": null,
            "overflow_y": null,
            "overflow_x": null,
            "grid_auto_flow": null,
            "grid_area": null,
            "grid_template_columns": null,
            "flex": null,
            "_model_name": "LayoutModel",
            "justify_items": null,
            "grid_row": null,
            "max_height": null,
            "align_content": null,
            "visibility": null,
            "align_self": null,
            "height": null,
            "min_height": null,
            "padding": null,
            "grid_auto_rows": null,
            "grid_gap": null,
            "max_width": null,
            "order": null,
            "_view_module_version": "1.2.0",
            "grid_template_areas": null,
            "object_position": null,
            "object_fit": null,
            "grid_auto_columns": null,
            "margin": null,
            "display": null,
            "left": null
          }
        },
        "40702566c2ed477693f05d8845bea044": {
          "model_module": "@jupyter-widgets/controls",
          "model_name": "IntProgressModel",
          "state": {
            "_view_name": "ProgressView",
            "style": "IPY_MODEL_eebae645984a4c68a9b79c6166bfce88",
            "_dom_classes": [],
            "description": "100%",
            "_model_name": "IntProgressModel",
            "bar_style": "success",
            "max": 130304,
            "_view_module": "@jupyter-widgets/controls",
            "_model_module_version": "1.5.0",
            "value": 130304,
            "_view_count": null,
            "_view_module_version": "1.5.0",
            "orientation": "horizontal",
            "min": 0,
            "description_tooltip": null,
            "_model_module": "@jupyter-widgets/controls",
            "layout": "IPY_MODEL_4f027eb591d340889d2a7cb932dcf94b"
          }
        },
        "618c6f25036342f6a0b074a18a687456": {
          "model_module": "@jupyter-widgets/controls",
          "model_name": "HTMLModel",
          "state": {
            "_view_name": "HTMLView",
            "style": "IPY_MODEL_f9773bbfb5df48f5a735f8009330ef63",
            "_dom_classes": [],
            "description": "",
            "_model_name": "HTMLModel",
            "placeholder": "​",
            "_view_module": "@jupyter-widgets/controls",
            "_model_module_version": "1.5.0",
            "value": " 130304/130304 [06:47&lt;00:00, 319.92it/s]",
            "_view_count": null,
            "_view_module_version": "1.5.0",
            "description_tooltip": null,
            "_model_module": "@jupyter-widgets/controls",
            "layout": "IPY_MODEL_263e1deee8e448dfa78186cb9ec694aa"
          }
        },
        "eebae645984a4c68a9b79c6166bfce88": {
          "model_module": "@jupyter-widgets/controls",
          "model_name": "ProgressStyleModel",
          "state": {
            "_view_name": "StyleView",
            "_model_name": "ProgressStyleModel",
            "description_width": "initial",
            "_view_module": "@jupyter-widgets/base",
            "_model_module_version": "1.5.0",
            "_view_count": null,
            "_view_module_version": "1.2.0",
            "bar_color": null,
            "_model_module": "@jupyter-widgets/controls"
          }
        },
        "4f027eb591d340889d2a7cb932dcf94b": {
          "model_module": "@jupyter-widgets/base",
          "model_name": "LayoutModel",
          "state": {
            "_view_name": "LayoutView",
            "grid_template_rows": null,
            "right": null,
            "justify_content": null,
            "_view_module": "@jupyter-widgets/base",
            "overflow": null,
            "_model_module_version": "1.2.0",
            "_view_count": null,
            "flex_flow": null,
            "width": null,
            "min_width": null,
            "border": null,
            "align_items": null,
            "bottom": null,
            "_model_module": "@jupyter-widgets/base",
            "top": null,
            "grid_column": null,
            "overflow_y": null,
            "overflow_x": null,
            "grid_auto_flow": null,
            "grid_area": null,
            "grid_template_columns": null,
            "flex": null,
            "_model_name": "LayoutModel",
            "justify_items": null,
            "grid_row": null,
            "max_height": null,
            "align_content": null,
            "visibility": null,
            "align_self": null,
            "height": null,
            "min_height": null,
            "padding": null,
            "grid_auto_rows": null,
            "grid_gap": null,
            "max_width": null,
            "order": null,
            "_view_module_version": "1.2.0",
            "grid_template_areas": null,
            "object_position": null,
            "object_fit": null,
            "grid_auto_columns": null,
            "margin": null,
            "display": null,
            "left": null
          }
        },
        "f9773bbfb5df48f5a735f8009330ef63": {
          "model_module": "@jupyter-widgets/controls",
          "model_name": "DescriptionStyleModel",
          "state": {
            "_view_name": "StyleView",
            "_model_name": "DescriptionStyleModel",
            "description_width": "",
            "_view_module": "@jupyter-widgets/base",
            "_model_module_version": "1.5.0",
            "_view_count": null,
            "_view_module_version": "1.2.0",
            "_model_module": "@jupyter-widgets/controls"
          }
        },
        "263e1deee8e448dfa78186cb9ec694aa": {
          "model_module": "@jupyter-widgets/base",
          "model_name": "LayoutModel",
          "state": {
            "_view_name": "LayoutView",
            "grid_template_rows": null,
            "right": null,
            "justify_content": null,
            "_view_module": "@jupyter-widgets/base",
            "overflow": null,
            "_model_module_version": "1.2.0",
            "_view_count": null,
            "flex_flow": null,
            "width": null,
            "min_width": null,
            "border": null,
            "align_items": null,
            "bottom": null,
            "_model_module": "@jupyter-widgets/base",
            "top": null,
            "grid_column": null,
            "overflow_y": null,
            "overflow_x": null,
            "grid_auto_flow": null,
            "grid_area": null,
            "grid_template_columns": null,
            "flex": null,
            "_model_name": "LayoutModel",
            "justify_items": null,
            "grid_row": null,
            "max_height": null,
            "align_content": null,
            "visibility": null,
            "align_self": null,
            "height": null,
            "min_height": null,
            "padding": null,
            "grid_auto_rows": null,
            "grid_gap": null,
            "max_width": null,
            "order": null,
            "_view_module_version": "1.2.0",
            "grid_template_areas": null,
            "object_position": null,
            "object_fit": null,
            "grid_auto_columns": null,
            "margin": null,
            "display": null,
            "left": null
          }
        },
        "af32c645e80d43a8a05cbbbf542fa8fe": {
          "model_module": "@jupyter-widgets/controls",
          "model_name": "HBoxModel",
          "state": {
            "_view_name": "HBoxView",
            "_dom_classes": [],
            "_model_name": "HBoxModel",
            "_view_module": "@jupyter-widgets/controls",
            "_model_module_version": "1.5.0",
            "_view_count": null,
            "_view_module_version": "1.5.0",
            "box_style": "",
            "layout": "IPY_MODEL_e45ff8e57e7f4a16b4ff4d9651060867",
            "_model_module": "@jupyter-widgets/controls",
            "children": [
              "IPY_MODEL_6c7930efb62b4f46a7231664adf9a3d4",
              "IPY_MODEL_ad23a55e90ac4aaaa9eb42e7ae19b64d"
            ]
          }
        },
        "e45ff8e57e7f4a16b4ff4d9651060867": {
          "model_module": "@jupyter-widgets/base",
          "model_name": "LayoutModel",
          "state": {
            "_view_name": "LayoutView",
            "grid_template_rows": null,
            "right": null,
            "justify_content": null,
            "_view_module": "@jupyter-widgets/base",
            "overflow": null,
            "_model_module_version": "1.2.0",
            "_view_count": null,
            "flex_flow": null,
            "width": null,
            "min_width": null,
            "border": null,
            "align_items": null,
            "bottom": null,
            "_model_module": "@jupyter-widgets/base",
            "top": null,
            "grid_column": null,
            "overflow_y": null,
            "overflow_x": null,
            "grid_auto_flow": null,
            "grid_area": null,
            "grid_template_columns": null,
            "flex": null,
            "_model_name": "LayoutModel",
            "justify_items": null,
            "grid_row": null,
            "max_height": null,
            "align_content": null,
            "visibility": null,
            "align_self": null,
            "height": null,
            "min_height": null,
            "padding": null,
            "grid_auto_rows": null,
            "grid_gap": null,
            "max_width": null,
            "order": null,
            "_view_module_version": "1.2.0",
            "grid_template_areas": null,
            "object_position": null,
            "object_fit": null,
            "grid_auto_columns": null,
            "margin": null,
            "display": null,
            "left": null
          }
        },
        "6c7930efb62b4f46a7231664adf9a3d4": {
          "model_module": "@jupyter-widgets/controls",
          "model_name": "IntProgressModel",
          "state": {
            "_view_name": "ProgressView",
            "style": "IPY_MODEL_24eef061811c4e08a9c8afa11200b8b1",
            "_dom_classes": [],
            "description": "100%",
            "_model_name": "IntProgressModel",
            "bar_style": "success",
            "max": 130304,
            "_view_module": "@jupyter-widgets/controls",
            "_model_module_version": "1.5.0",
            "value": 130304,
            "_view_count": null,
            "_view_module_version": "1.5.0",
            "orientation": "horizontal",
            "min": 0,
            "description_tooltip": null,
            "_model_module": "@jupyter-widgets/controls",
            "layout": "IPY_MODEL_3f16ddf3a42343d092454e675a77a46d"
          }
        },
        "ad23a55e90ac4aaaa9eb42e7ae19b64d": {
          "model_module": "@jupyter-widgets/controls",
          "model_name": "HTMLModel",
          "state": {
            "_view_name": "HTMLView",
            "style": "IPY_MODEL_9da8789422c2412ea9fde0527bd302d6",
            "_dom_classes": [],
            "description": "",
            "_model_name": "HTMLModel",
            "placeholder": "​",
            "_view_module": "@jupyter-widgets/controls",
            "_model_module_version": "1.5.0",
            "value": " 130304/130304 [07:42&lt;00:00, 282.04it/s]",
            "_view_count": null,
            "_view_module_version": "1.5.0",
            "description_tooltip": null,
            "_model_module": "@jupyter-widgets/controls",
            "layout": "IPY_MODEL_9e74cb7238ae4ffea742c38c57fc39e0"
          }
        },
        "24eef061811c4e08a9c8afa11200b8b1": {
          "model_module": "@jupyter-widgets/controls",
          "model_name": "ProgressStyleModel",
          "state": {
            "_view_name": "StyleView",
            "_model_name": "ProgressStyleModel",
            "description_width": "initial",
            "_view_module": "@jupyter-widgets/base",
            "_model_module_version": "1.5.0",
            "_view_count": null,
            "_view_module_version": "1.2.0",
            "bar_color": null,
            "_model_module": "@jupyter-widgets/controls"
          }
        },
        "3f16ddf3a42343d092454e675a77a46d": {
          "model_module": "@jupyter-widgets/base",
          "model_name": "LayoutModel",
          "state": {
            "_view_name": "LayoutView",
            "grid_template_rows": null,
            "right": null,
            "justify_content": null,
            "_view_module": "@jupyter-widgets/base",
            "overflow": null,
            "_model_module_version": "1.2.0",
            "_view_count": null,
            "flex_flow": null,
            "width": null,
            "min_width": null,
            "border": null,
            "align_items": null,
            "bottom": null,
            "_model_module": "@jupyter-widgets/base",
            "top": null,
            "grid_column": null,
            "overflow_y": null,
            "overflow_x": null,
            "grid_auto_flow": null,
            "grid_area": null,
            "grid_template_columns": null,
            "flex": null,
            "_model_name": "LayoutModel",
            "justify_items": null,
            "grid_row": null,
            "max_height": null,
            "align_content": null,
            "visibility": null,
            "align_self": null,
            "height": null,
            "min_height": null,
            "padding": null,
            "grid_auto_rows": null,
            "grid_gap": null,
            "max_width": null,
            "order": null,
            "_view_module_version": "1.2.0",
            "grid_template_areas": null,
            "object_position": null,
            "object_fit": null,
            "grid_auto_columns": null,
            "margin": null,
            "display": null,
            "left": null
          }
        },
        "9da8789422c2412ea9fde0527bd302d6": {
          "model_module": "@jupyter-widgets/controls",
          "model_name": "DescriptionStyleModel",
          "state": {
            "_view_name": "StyleView",
            "_model_name": "DescriptionStyleModel",
            "description_width": "",
            "_view_module": "@jupyter-widgets/base",
            "_model_module_version": "1.5.0",
            "_view_count": null,
            "_view_module_version": "1.2.0",
            "_model_module": "@jupyter-widgets/controls"
          }
        },
        "9e74cb7238ae4ffea742c38c57fc39e0": {
          "model_module": "@jupyter-widgets/base",
          "model_name": "LayoutModel",
          "state": {
            "_view_name": "LayoutView",
            "grid_template_rows": null,
            "right": null,
            "justify_content": null,
            "_view_module": "@jupyter-widgets/base",
            "overflow": null,
            "_model_module_version": "1.2.0",
            "_view_count": null,
            "flex_flow": null,
            "width": null,
            "min_width": null,
            "border": null,
            "align_items": null,
            "bottom": null,
            "_model_module": "@jupyter-widgets/base",
            "top": null,
            "grid_column": null,
            "overflow_y": null,
            "overflow_x": null,
            "grid_auto_flow": null,
            "grid_area": null,
            "grid_template_columns": null,
            "flex": null,
            "_model_name": "LayoutModel",
            "justify_items": null,
            "grid_row": null,
            "max_height": null,
            "align_content": null,
            "visibility": null,
            "align_self": null,
            "height": null,
            "min_height": null,
            "padding": null,
            "grid_auto_rows": null,
            "grid_gap": null,
            "max_width": null,
            "order": null,
            "_view_module_version": "1.2.0",
            "grid_template_areas": null,
            "object_position": null,
            "object_fit": null,
            "grid_auto_columns": null,
            "margin": null,
            "display": null,
            "left": null
          }
        },
        "0dc4659ec9714836990d2a83f9a7f4cb": {
          "model_module": "@jupyter-widgets/controls",
          "model_name": "HBoxModel",
          "state": {
            "_view_name": "HBoxView",
            "_dom_classes": [],
            "_model_name": "HBoxModel",
            "_view_module": "@jupyter-widgets/controls",
            "_model_module_version": "1.5.0",
            "_view_count": null,
            "_view_module_version": "1.5.0",
            "box_style": "",
            "layout": "IPY_MODEL_999be904dbdb44e196af175037659b89",
            "_model_module": "@jupyter-widgets/controls",
            "children": [
              "IPY_MODEL_704c09ecfd4f47d38c0fc7861ed1f8fb",
              "IPY_MODEL_d1df2bce2ff54578b60015f96c7e91de"
            ]
          }
        },
        "999be904dbdb44e196af175037659b89": {
          "model_module": "@jupyter-widgets/base",
          "model_name": "LayoutModel",
          "state": {
            "_view_name": "LayoutView",
            "grid_template_rows": null,
            "right": null,
            "justify_content": null,
            "_view_module": "@jupyter-widgets/base",
            "overflow": null,
            "_model_module_version": "1.2.0",
            "_view_count": null,
            "flex_flow": null,
            "width": null,
            "min_width": null,
            "border": null,
            "align_items": null,
            "bottom": null,
            "_model_module": "@jupyter-widgets/base",
            "top": null,
            "grid_column": null,
            "overflow_y": null,
            "overflow_x": null,
            "grid_auto_flow": null,
            "grid_area": null,
            "grid_template_columns": null,
            "flex": null,
            "_model_name": "LayoutModel",
            "justify_items": null,
            "grid_row": null,
            "max_height": null,
            "align_content": null,
            "visibility": null,
            "align_self": null,
            "height": null,
            "min_height": null,
            "padding": null,
            "grid_auto_rows": null,
            "grid_gap": null,
            "max_width": null,
            "order": null,
            "_view_module_version": "1.2.0",
            "grid_template_areas": null,
            "object_position": null,
            "object_fit": null,
            "grid_auto_columns": null,
            "margin": null,
            "display": null,
            "left": null
          }
        },
        "704c09ecfd4f47d38c0fc7861ed1f8fb": {
          "model_module": "@jupyter-widgets/controls",
          "model_name": "IntProgressModel",
          "state": {
            "_view_name": "ProgressView",
            "style": "IPY_MODEL_4a3f3ce8887a44869eee7f7ae0638ea7",
            "_dom_classes": [],
            "description": "",
            "_model_name": "IntProgressModel",
            "bar_style": "",
            "max": 200,
            "_view_module": "@jupyter-widgets/controls",
            "_model_module_version": "1.5.0",
            "value": 20,
            "_view_count": null,
            "_view_module_version": "1.5.0",
            "orientation": "horizontal",
            "min": 0,
            "description_tooltip": null,
            "_model_module": "@jupyter-widgets/controls",
            "layout": "IPY_MODEL_32475c4a4be2414aa2929fe61147d189"
          }
        },
        "d1df2bce2ff54578b60015f96c7e91de": {
          "model_module": "@jupyter-widgets/controls",
          "model_name": "HTMLModel",
          "state": {
            "_view_name": "HTMLView",
            "style": "IPY_MODEL_36db582cfc46484aa4112a64954d56c5",
            "_dom_classes": [],
            "description": "",
            "_model_name": "HTMLModel",
            "placeholder": "​",
            "_view_module": "@jupyter-widgets/controls",
            "_model_module_version": "1.5.0",
            "value": " 10% 20/200 [42:59&lt;6:26:35, 128.87s/it]",
            "_view_count": null,
            "_view_module_version": "1.5.0",
            "description_tooltip": null,
            "_model_module": "@jupyter-widgets/controls",
            "layout": "IPY_MODEL_903fd2501e11479cb6157d5a185b063e"
          }
        },
        "4a3f3ce8887a44869eee7f7ae0638ea7": {
          "model_module": "@jupyter-widgets/controls",
          "model_name": "ProgressStyleModel",
          "state": {
            "_view_name": "StyleView",
            "_model_name": "ProgressStyleModel",
            "description_width": "",
            "_view_module": "@jupyter-widgets/base",
            "_model_module_version": "1.5.0",
            "_view_count": null,
            "_view_module_version": "1.2.0",
            "bar_color": null,
            "_model_module": "@jupyter-widgets/controls"
          }
        },
        "32475c4a4be2414aa2929fe61147d189": {
          "model_module": "@jupyter-widgets/base",
          "model_name": "LayoutModel",
          "state": {
            "_view_name": "LayoutView",
            "grid_template_rows": null,
            "right": null,
            "justify_content": null,
            "_view_module": "@jupyter-widgets/base",
            "overflow": null,
            "_model_module_version": "1.2.0",
            "_view_count": null,
            "flex_flow": null,
            "width": null,
            "min_width": null,
            "border": null,
            "align_items": null,
            "bottom": null,
            "_model_module": "@jupyter-widgets/base",
            "top": null,
            "grid_column": null,
            "overflow_y": null,
            "overflow_x": null,
            "grid_auto_flow": null,
            "grid_area": null,
            "grid_template_columns": null,
            "flex": null,
            "_model_name": "LayoutModel",
            "justify_items": null,
            "grid_row": null,
            "max_height": null,
            "align_content": null,
            "visibility": null,
            "align_self": null,
            "height": null,
            "min_height": null,
            "padding": null,
            "grid_auto_rows": null,
            "grid_gap": null,
            "max_width": null,
            "order": null,
            "_view_module_version": "1.2.0",
            "grid_template_areas": null,
            "object_position": null,
            "object_fit": null,
            "grid_auto_columns": null,
            "margin": null,
            "display": null,
            "left": null
          }
        },
        "36db582cfc46484aa4112a64954d56c5": {
          "model_module": "@jupyter-widgets/controls",
          "model_name": "DescriptionStyleModel",
          "state": {
            "_view_name": "StyleView",
            "_model_name": "DescriptionStyleModel",
            "description_width": "",
            "_view_module": "@jupyter-widgets/base",
            "_model_module_version": "1.5.0",
            "_view_count": null,
            "_view_module_version": "1.2.0",
            "_model_module": "@jupyter-widgets/controls"
          }
        },
        "903fd2501e11479cb6157d5a185b063e": {
          "model_module": "@jupyter-widgets/base",
          "model_name": "LayoutModel",
          "state": {
            "_view_name": "LayoutView",
            "grid_template_rows": null,
            "right": null,
            "justify_content": null,
            "_view_module": "@jupyter-widgets/base",
            "overflow": null,
            "_model_module_version": "1.2.0",
            "_view_count": null,
            "flex_flow": null,
            "width": null,
            "min_width": null,
            "border": null,
            "align_items": null,
            "bottom": null,
            "_model_module": "@jupyter-widgets/base",
            "top": null,
            "grid_column": null,
            "overflow_y": null,
            "overflow_x": null,
            "grid_auto_flow": null,
            "grid_area": null,
            "grid_template_columns": null,
            "flex": null,
            "_model_name": "LayoutModel",
            "justify_items": null,
            "grid_row": null,
            "max_height": null,
            "align_content": null,
            "visibility": null,
            "align_self": null,
            "height": null,
            "min_height": null,
            "padding": null,
            "grid_auto_rows": null,
            "grid_gap": null,
            "max_width": null,
            "order": null,
            "_view_module_version": "1.2.0",
            "grid_template_areas": null,
            "object_position": null,
            "object_fit": null,
            "grid_auto_columns": null,
            "margin": null,
            "display": null,
            "left": null
          }
        }
      }
    }
  },
  "cells": [
    {
      "cell_type": "code",
      "metadata": {
        "id": "UQ0sTGcYEL1M",
        "colab_type": "code",
        "outputId": "e80e7191-4624-43b4-cd81-b065b050c787",
        "colab": {
          "base_uri": "https://localhost:8080/",
          "height": 228
        }
      },
      "source": [
        "!pip install bcolz"
      ],
      "execution_count": 1,
      "outputs": [
        {
          "output_type": "stream",
          "text": [
            "Collecting bcolz\n",
            "\u001b[?25l  Downloading https://files.pythonhosted.org/packages/5c/4e/23942de9d5c0fb16f10335fa83e52b431bcb8c0d4a8419c9ac206268c279/bcolz-1.2.1.tar.gz (1.5MB)\n",
            "\u001b[K     |████████████████████████████████| 1.5MB 2.7MB/s \n",
            "\u001b[?25hRequirement already satisfied: numpy>=1.7 in /usr/local/lib/python3.6/dist-packages (from bcolz) (1.18.2)\n",
            "Building wheels for collected packages: bcolz\n",
            "  Building wheel for bcolz (setup.py) ... \u001b[?25l\u001b[?25hdone\n",
            "  Created wheel for bcolz: filename=bcolz-1.2.1-cp36-cp36m-linux_x86_64.whl size=2662890 sha256=c2660832d30e83e4a5d455b13f333b625c3cfec87e168e37535c5dacdee054c5\n",
            "  Stored in directory: /root/.cache/pip/wheels/9f/78/26/fb8c0acb91a100dc8914bf236c4eaa4b207cb876893c40b745\n",
            "Successfully built bcolz\n",
            "Installing collected packages: bcolz\n",
            "Successfully installed bcolz-1.2.1\n"
          ],
          "name": "stdout"
        }
      ]
    },
    {
      "cell_type": "code",
      "metadata": {
        "id": "6uCorZI-94vm",
        "colab_type": "code",
        "outputId": "bddc2919-09e4-4c0a-a488-7271f5da5d73",
        "colab": {
          "base_uri": "https://localhost:8080/",
          "height": 124
        }
      },
      "source": [
        "from google.colab import drive\n",
        "drive.mount('/content/drive', force_remount=True)"
      ],
      "execution_count": 2,
      "outputs": [
        {
          "output_type": "stream",
          "text": [
            "Go to this URL in a browser: https://accounts.google.com/o/oauth2/auth?client_id=947318989803-6bn6qk8qdgf4n4g3pfee6491hc0brc4i.apps.googleusercontent.com&redirect_uri=urn%3aietf%3awg%3aoauth%3a2.0%3aoob&response_type=code&scope=email%20https%3a%2f%2fwww.googleapis.com%2fauth%2fdocs.test%20https%3a%2f%2fwww.googleapis.com%2fauth%2fdrive%20https%3a%2f%2fwww.googleapis.com%2fauth%2fdrive.photos.readonly%20https%3a%2f%2fwww.googleapis.com%2fauth%2fpeopleapi.readonly\n",
            "\n",
            "Enter your authorization code:\n",
            "··········\n",
            "Mounted at /content/drive\n"
          ],
          "name": "stdout"
        }
      ]
    },
    {
      "cell_type": "code",
      "metadata": {
        "id": "CFv-hZRX96cE",
        "colab_type": "code",
        "outputId": "55c03030-942a-4f36-83b9-0f675e1e3a6e",
        "colab": {
          "base_uri": "https://localhost:8080/",
          "height": 35
        }
      },
      "source": [
        "cd drive/My\\ Drive/Projects/QuestionGeneration"
      ],
      "execution_count": 3,
      "outputs": [
        {
          "output_type": "stream",
          "text": [
            "/content/drive/My Drive/Projects/QuestionGeneration\n"
          ],
          "name": "stdout"
        }
      ]
    },
    {
      "cell_type": "code",
      "metadata": {
        "id": "0fsxF5gI7Bs9",
        "colab_type": "code",
        "colab": {}
      },
      "source": [
        "import os\n",
        "import math\n",
        "import copy\n",
        "import json\n",
        "import bcolz\n",
        "import pickle\n",
        "import random\n",
        "import argparse\n",
        "import numpy as np\n",
        "import pandas as po\n",
        "#from tqdm import tqdm\n",
        "from tqdm.notebook import tqdm"
      ],
      "execution_count": 0,
      "outputs": []
    },
    {
      "cell_type": "code",
      "metadata": {
        "id": "z127-Pig7BtD",
        "colab_type": "code",
        "colab": {}
      },
      "source": [
        "import torch\n",
        "import torch.nn as nn\n",
        "import torch.optim as optim\n",
        "from torch.autograd import Variable\n",
        "import torch.nn.functional as F"
      ],
      "execution_count": 0,
      "outputs": []
    },
    {
      "cell_type": "code",
      "metadata": {
        "id": "-mlY1g3ORzCz",
        "colab_type": "code",
        "colab": {}
      },
      "source": [
        "#torch.set_default_tensor_type(torch.cuda.FloatTensor)"
      ],
      "execution_count": 0,
      "outputs": []
    },
    {
      "cell_type": "code",
      "metadata": {
        "id": "RQ-m4BdB7BtG",
        "colab_type": "code",
        "colab": {}
      },
      "source": [
        "#from generator import Generator\n",
        "#from discriminator import Discriminator\n",
        "#from target_lstm import TargetLSTM\n",
        "#from rollout import Rollout\n",
        "#from data_iter  import GenDataIter, DisDataIter"
      ],
      "execution_count": 0,
      "outputs": []
    },
    {
      "cell_type": "code",
      "metadata": {
        "id": "tszZwlH47BtJ",
        "colab_type": "code",
        "colab": {}
      },
      "source": [
        "# Basic Training Paramters\n",
        "SEED = 88\n",
        "BATCH_SIZE = 64\n",
        "TOTAL_BATCH = 200\n",
        "GENERATED_NUM = 10000\n",
        "POSITIVE_FILE = 'squad/real.data'\n",
        "NEGATIVE_FILE = 'squad/questions_generated.data'\n",
        "QUESTION_FILE = 'squad/questions_real.data'\n",
        "EVAL_FILE = 'squad/eval.data'\n",
        "PRE_EPOCH_NUM = 120"
      ],
      "execution_count": 0,
      "outputs": []
    },
    {
      "cell_type": "code",
      "metadata": {
        "id": "p-JJBZaA7BtM",
        "colab_type": "code",
        "colab": {}
      },
      "source": [
        "random.seed(SEED)\n",
        "np.random.seed(SEED)"
      ],
      "execution_count": 0,
      "outputs": []
    },
    {
      "cell_type": "code",
      "metadata": {
        "id": "GKmftjzf7BtO",
        "colab_type": "code",
        "colab": {}
      },
      "source": [
        "device = torch.device('cuda:0' if torch.cuda. is_available() else 'cpu')"
      ],
      "execution_count": 0,
      "outputs": []
    },
    {
      "cell_type": "code",
      "metadata": {
        "id": "KDasC3sBBRkI",
        "colab_type": "code",
        "colab": {}
      },
      "source": [
        "vectors = bcolz.open(f'conceptnet_embeddings/300.data')[:]"
      ],
      "execution_count": 0,
      "outputs": []
    },
    {
      "cell_type": "code",
      "metadata": {
        "id": "3KFtRbN1nkUN",
        "colab_type": "code",
        "colab": {}
      },
      "source": [
        "import bcolz\n",
        "import pickle\n",
        "import numpy as np\n",
        "from tqdm.notebook import tqdm\n",
        "\n",
        "words = []\n",
        "idx = 0\n",
        "word2idx = {}\n",
        "\n",
        "vectors = bcolz.carray(np.zeros(1), rootdir=f'conceptnet_embeddings/300.data', mode='w')\n",
        "\n",
        "with open(f'conceptnet_embeddings/numberbatch-en.txt', 'rb') as f:\n",
        "    for l in tqdm(f):\n",
        "        line = l.decode().split()\n",
        "        word = line[0]\n",
        "        words.append(word)\n",
        "        word2idx[word] = idx\n",
        "        idx += 1\n",
        "        vect = np.array(line[1:]).astype(np.float)\n",
        "        vectors.append(vect)        \n",
        "\n",
        "vectors = bcolz.carray(vectors[2:].reshape((516782, 300)), rootdir=f'conceptnet_embeddings/300.data', mode='w')\n",
        "\n",
        "words = words[1:]\n",
        "del word2idx['516782']\n",
        "\n",
        "vectors.flush()\n",
        "pickle.dump(words, open(f'conceptnet_embeddings/300_vocab.pkl', 'wb'))\n",
        "pickle.dump(word2idx, open(f'conceptnet_embeddings/300_lookup_table.pkl', 'wb'))"
      ],
      "execution_count": 0,
      "outputs": []
    },
    {
      "cell_type": "code",
      "metadata": {
        "id": "CqGgV8OOYYwe",
        "colab_type": "code",
        "colab": {
          "base_uri": "https://localhost:8080/",
          "height": 184
        },
        "outputId": "33fe5d1c-7745-4641-f920-5223eb671348"
      },
      "source": [
        "words = pickle.load(open(f'conceptnet_embeddings/300_vocab.pkl', 'rb'))\n",
        "word2idx = pickle.load(open(f'conceptnet_embeddings/300_lookup_table.pkl', 'rb'))"
      ],
      "execution_count": 15,
      "outputs": [
        {
          "output_type": "error",
          "ename": "FileNotFoundError",
          "evalue": "ignored",
          "traceback": [
            "\u001b[0;31m---------------------------------------------------------------------------\u001b[0m",
            "\u001b[0;31mFileNotFoundError\u001b[0m                         Traceback (most recent call last)",
            "\u001b[0;32m<ipython-input-15-1f74b5b7d39d>\u001b[0m in \u001b[0;36m<module>\u001b[0;34m()\u001b[0m\n\u001b[0;32m----> 1\u001b[0;31m \u001b[0mwords\u001b[0m \u001b[0;34m=\u001b[0m \u001b[0mpickle\u001b[0m\u001b[0;34m.\u001b[0m\u001b[0mload\u001b[0m\u001b[0;34m(\u001b[0m\u001b[0mopen\u001b[0m\u001b[0;34m(\u001b[0m\u001b[0;34mf'conceptnet_embeddings/300_vocab.pkl'\u001b[0m\u001b[0;34m,\u001b[0m \u001b[0;34m'rb'\u001b[0m\u001b[0;34m)\u001b[0m\u001b[0;34m)\u001b[0m\u001b[0;34m\u001b[0m\u001b[0;34m\u001b[0m\u001b[0m\n\u001b[0m\u001b[1;32m      2\u001b[0m \u001b[0mword2idx\u001b[0m \u001b[0;34m=\u001b[0m \u001b[0mpickle\u001b[0m\u001b[0;34m.\u001b[0m\u001b[0mload\u001b[0m\u001b[0;34m(\u001b[0m\u001b[0mopen\u001b[0m\u001b[0;34m(\u001b[0m\u001b[0;34mf'conceptnet_embeddings/300_lookup_table.pkl'\u001b[0m\u001b[0;34m,\u001b[0m \u001b[0;34m'rb'\u001b[0m\u001b[0;34m)\u001b[0m\u001b[0;34m)\u001b[0m\u001b[0;34m\u001b[0m\u001b[0;34m\u001b[0m\u001b[0m\n",
            "\u001b[0;31mFileNotFoundError\u001b[0m: [Errno 2] No such file or directory: 'conceptnet_embeddings/300_vocab.pkl'"
          ]
        }
      ]
    },
    {
      "cell_type": "code",
      "metadata": {
        "id": "EjREqPyNYFm2",
        "colab_type": "code",
        "colab": {
          "base_uri": "https://localhost:8080/",
          "height": 201
        },
        "outputId": "c89887ae-4159-4c8b-a598-9d158c7fca09"
      },
      "source": [
        "with open('data/squad/train-questions-only.pkl', 'rb') as file:\n",
        "  questions = pickle.load(file)\n",
        "questions = questions[:BATCH_SIZE*math.ceil(len(questions)/BATCH_SIZE)-BATCH_SIZE]"
      ],
      "execution_count": 10,
      "outputs": [
        {
          "output_type": "error",
          "ename": "NameError",
          "evalue": "ignored",
          "traceback": [
            "\u001b[0;31m---------------------------------------------------------------------------\u001b[0m",
            "\u001b[0;31mNameError\u001b[0m                                 Traceback (most recent call last)",
            "\u001b[0;32m<ipython-input-10-c1a0fb8f9bce>\u001b[0m in \u001b[0;36m<module>\u001b[0;34m()\u001b[0m\n\u001b[1;32m      1\u001b[0m \u001b[0;32mwith\u001b[0m \u001b[0mopen\u001b[0m\u001b[0;34m(\u001b[0m\u001b[0;34m'data/squad/train-questions-only.pkl'\u001b[0m\u001b[0;34m,\u001b[0m \u001b[0;34m'rb'\u001b[0m\u001b[0;34m)\u001b[0m \u001b[0;32mas\u001b[0m \u001b[0mfile\u001b[0m\u001b[0;34m:\u001b[0m\u001b[0;34m\u001b[0m\u001b[0;34m\u001b[0m\u001b[0m\n\u001b[0;32m----> 2\u001b[0;31m   \u001b[0mquestions\u001b[0m \u001b[0;34m=\u001b[0m \u001b[0mpickle\u001b[0m\u001b[0;34m.\u001b[0m\u001b[0mload\u001b[0m\u001b[0;34m(\u001b[0m\u001b[0mfile\u001b[0m\u001b[0;34m)\u001b[0m\u001b[0;34m\u001b[0m\u001b[0;34m\u001b[0m\u001b[0m\n\u001b[0m\u001b[1;32m      3\u001b[0m \u001b[0mquestions\u001b[0m \u001b[0;34m=\u001b[0m \u001b[0mquestions\u001b[0m\u001b[0;34m[\u001b[0m\u001b[0;34m:\u001b[0m\u001b[0mBATCH_SIZE\u001b[0m\u001b[0;34m*\u001b[0m\u001b[0mmath\u001b[0m\u001b[0;34m.\u001b[0m\u001b[0mceil\u001b[0m\u001b[0;34m(\u001b[0m\u001b[0mlen\u001b[0m\u001b[0;34m(\u001b[0m\u001b[0mquestions\u001b[0m\u001b[0;34m)\u001b[0m\u001b[0;34m/\u001b[0m\u001b[0mBATCH_SIZE\u001b[0m\u001b[0;34m)\u001b[0m\u001b[0;34m-\u001b[0m\u001b[0mBATCH_SIZE\u001b[0m\u001b[0;34m]\u001b[0m\u001b[0;34m\u001b[0m\u001b[0;34m\u001b[0m\u001b[0m\n",
            "\u001b[0;31mNameError\u001b[0m: name 'pickle' is not defined"
          ]
        }
      ]
    },
    {
      "cell_type": "code",
      "metadata": {
        "id": "mG3JAHLGCl_F",
        "colab_type": "code",
        "outputId": "582b22e6-372e-445e-84d8-44315538ff84",
        "colab": {
          "base_uri": "https://localhost:8080/",
          "height": 191
        }
      },
      "source": [
        "questions[:10]"
      ],
      "execution_count": 0,
      "outputs": [
        {
          "output_type": "execute_result",
          "data": {
            "text/plain": [
              "['When did Beyonce start becoming popular?',\n",
              " 'What areas did Beyonce compete in when she was growing up?',\n",
              " \"When did Beyonce leave Destiny's Child and become a solo singer?\",\n",
              " 'In what city and state did Beyonce  grow up? ',\n",
              " 'In which decade did Beyonce become famous?',\n",
              " 'In what R&B group was she the lead singer?',\n",
              " 'What album made her a worldwide known artist?',\n",
              " \"Who managed the Destiny's Child group?\",\n",
              " 'When did Beyoncé rise to fame?',\n",
              " \"What role did Beyoncé have in Destiny's Child?\"]"
            ]
          },
          "metadata": {
            "tags": []
          },
          "execution_count": 15
        }
      ]
    },
    {
      "cell_type": "code",
      "metadata": {
        "id": "1zJTlZdLW8v0",
        "colab_type": "code",
        "outputId": "e8fe457c-4b80-4f8b-c255-7141cc92c8ce",
        "colab": {
          "base_uri": "https://localhost:8080/",
          "height": 119,
          "referenced_widgets": [
            "d5cc2e99599e405e9574c1c8a71d98c8",
            "d5e45cd77cd84948b9e94f2fe6078b01",
            "40702566c2ed477693f05d8845bea044",
            "618c6f25036342f6a0b074a18a687456",
            "eebae645984a4c68a9b79c6166bfce88",
            "4f027eb591d340889d2a7cb932dcf94b",
            "f9773bbfb5df48f5a735f8009330ef63",
            "263e1deee8e448dfa78186cb9ec694aa"
          ]
        }
      },
      "source": [
        "tokenized_questions = []\n",
        "for ques in tqdm_notebook(questions):\n",
        "  tokenized_ques = bert_tokenizer.encode(ques, add_special_tokens=True)\n",
        "  tokenized_questions.append(tokenized_ques)"
      ],
      "execution_count": 0,
      "outputs": [
        {
          "output_type": "stream",
          "text": [
            "/usr/local/lib/python3.6/dist-packages/ipykernel_launcher.py:2: TqdmDeprecationWarning: This function will be removed in tqdm==5.0.0\n",
            "Please use `tqdm.notebook.tqdm` instead of `tqdm.tqdm_notebook`\n",
            "  \n"
          ],
          "name": "stderr"
        },
        {
          "output_type": "display_data",
          "data": {
            "application/vnd.jupyter.widget-view+json": {
              "model_id": "d5cc2e99599e405e9574c1c8a71d98c8",
              "version_minor": 0,
              "version_major": 2
            },
            "text/plain": [
              "HBox(children=(IntProgress(value=0, max=130304), HTML(value='')))"
            ]
          },
          "metadata": {
            "tags": []
          }
        },
        {
          "output_type": "stream",
          "text": [
            "\n"
          ],
          "name": "stdout"
        }
      ]
    },
    {
      "cell_type": "code",
      "metadata": {
        "id": "f8OW8Bf7Ynf9",
        "colab_type": "code",
        "outputId": "d9974d8f-5e62-41b2-c2f2-0fe73153c292",
        "colab": {
          "base_uri": "https://localhost:8080/",
          "height": 35
        }
      },
      "source": [
        "ques_lens = [len(tok_ques) for tok_ques in tokenized_questions]\n",
        "max(ques_lens)"
      ],
      "execution_count": 0,
      "outputs": [
        {
          "output_type": "execute_result",
          "data": {
            "text/plain": [
              "63"
            ]
          },
          "metadata": {
            "tags": []
          },
          "execution_count": 17
        }
      ]
    },
    {
      "cell_type": "code",
      "metadata": {
        "id": "vL5ZEdaalyGQ",
        "colab_type": "code",
        "colab": {}
      },
      "source": [
        "del tokenized_questions[np.argmax(np.array(ques_lens))]"
      ],
      "execution_count": 0,
      "outputs": []
    },
    {
      "cell_type": "code",
      "metadata": {
        "id": "XDt1_Y4LmKrE",
        "colab_type": "code",
        "outputId": "e8d451a7-92a6-4222-a918-f3644a15f827",
        "colab": {
          "base_uri": "https://localhost:8080/",
          "height": 35
        }
      },
      "source": [
        "ques_lens = [len(tok_ques) for tok_ques in tokenized_questions]\n",
        "max(ques_lens)"
      ],
      "execution_count": 0,
      "outputs": [
        {
          "output_type": "execute_result",
          "data": {
            "text/plain": [
              "55"
            ]
          },
          "metadata": {
            "tags": []
          },
          "execution_count": 21
        }
      ]
    },
    {
      "cell_type": "code",
      "metadata": {
        "id": "bGObAlCfmNq1",
        "colab_type": "code",
        "colab": {}
      },
      "source": [
        "del tokenized_questions[np.argmax(np.array(ques_lens))]"
      ],
      "execution_count": 0,
      "outputs": []
    },
    {
      "cell_type": "code",
      "metadata": {
        "id": "QeMefoVMmNtD",
        "colab_type": "code",
        "outputId": "49ed34a6-b78a-4708-b177-c0ba65252a28",
        "colab": {
          "base_uri": "https://localhost:8080/",
          "height": 35
        }
      },
      "source": [
        "ques_lens = [len(tok_ques) for tok_ques in tokenized_questions]\n",
        "max(ques_lens)"
      ],
      "execution_count": 0,
      "outputs": [
        {
          "output_type": "execute_result",
          "data": {
            "text/plain": [
              "52"
            ]
          },
          "metadata": {
            "tags": []
          },
          "execution_count": 24
        }
      ]
    },
    {
      "cell_type": "code",
      "metadata": {
        "id": "kU2JfPuhmNxz",
        "colab_type": "code",
        "colab": {}
      },
      "source": [
        "del tokenized_questions[np.argmax(np.array(ques_lens))]"
      ],
      "execution_count": 0,
      "outputs": []
    },
    {
      "cell_type": "code",
      "metadata": {
        "id": "KS_xeSjemNvS",
        "colab_type": "code",
        "outputId": "b4a4cad7-af8a-4b7b-c16a-b6959479e957",
        "colab": {
          "base_uri": "https://localhost:8080/",
          "height": 35
        }
      },
      "source": [
        "ques_lens = [len(tok_ques) for tok_ques in tokenized_questions]\n",
        "max(ques_lens)"
      ],
      "execution_count": 0,
      "outputs": [
        {
          "output_type": "execute_result",
          "data": {
            "text/plain": [
              "48"
            ]
          },
          "metadata": {
            "tags": []
          },
          "execution_count": 26
        }
      ]
    },
    {
      "cell_type": "code",
      "metadata": {
        "id": "eT-9TOdVYuvQ",
        "colab_type": "code",
        "outputId": "ed20851b-4ac2-4e7f-82d3-a40a873f4c31",
        "colab": {
          "base_uri": "https://localhost:8080/",
          "height": 119,
          "referenced_widgets": [
            "af32c645e80d43a8a05cbbbf542fa8fe",
            "e45ff8e57e7f4a16b4ff4d9651060867",
            "6c7930efb62b4f46a7231664adf9a3d4",
            "ad23a55e90ac4aaaa9eb42e7ae19b64d",
            "24eef061811c4e08a9c8afa11200b8b1",
            "3f16ddf3a42343d092454e675a77a46d",
            "9da8789422c2412ea9fde0527bd302d6",
            "9e74cb7238ae4ffea742c38c57fc39e0"
          ]
        }
      },
      "source": [
        "tokenized_questions = []\n",
        "for ques in tqdm_notebook(questions):\n",
        "  tokenized_ques = bert_tokenizer.encode(ques, add_special_tokens=True, max_length = max(ques_lens), pad_to_max_length=True)\n",
        "  tokenized_questions.append(tokenized_ques)"
      ],
      "execution_count": 0,
      "outputs": [
        {
          "output_type": "stream",
          "text": [
            "/usr/local/lib/python3.6/dist-packages/ipykernel_launcher.py:2: TqdmDeprecationWarning: This function will be removed in tqdm==5.0.0\n",
            "Please use `tqdm.notebook.tqdm` instead of `tqdm.tqdm_notebook`\n",
            "  \n"
          ],
          "name": "stderr"
        },
        {
          "output_type": "display_data",
          "data": {
            "application/vnd.jupyter.widget-view+json": {
              "model_id": "af32c645e80d43a8a05cbbbf542fa8fe",
              "version_minor": 0,
              "version_major": 2
            },
            "text/plain": [
              "HBox(children=(IntProgress(value=0, max=130304), HTML(value='')))"
            ]
          },
          "metadata": {
            "tags": []
          }
        },
        {
          "output_type": "stream",
          "text": [
            "\n"
          ],
          "name": "stdout"
        }
      ]
    },
    {
      "cell_type": "code",
      "metadata": {
        "id": "E1-iE5EyYzix",
        "colab_type": "code",
        "colab": {}
      },
      "source": [
        "with open(QUESTION_FILE, 'w') as q_file:\n",
        "  for tokeneized_ques in tokenized_questions:\n",
        "      ques = ' '.join([str(token) for token in tokeneized_ques])\n",
        "      q_file.write('%s\\n' % ques)\n",
        "q_file.close()"
      ],
      "execution_count": 0,
      "outputs": []
    },
    {
      "cell_type": "code",
      "metadata": {
        "id": "KKFUJvNmnr2B",
        "colab_type": "code",
        "colab": {}
      },
      "source": [
        "with open(QUESTION_FILE, 'w') as q_file:\n",
        "  for tokeneized_ques in tokenized_questions:\n",
        "      ques = ' '.join([str(token) for token in tokeneized_ques])\n",
        "      q_file.write('%s\\n' % ques)\n",
        "q_file.close()"
      ],
      "execution_count": 0,
      "outputs": []
    },
    {
      "cell_type": "code",
      "metadata": {
        "id": "MTkegP5rY0gT",
        "colab_type": "code",
        "colab": {}
      },
      "source": [
        "tokenized_questions_t = torch.tensor(tokenized_questions, device = 'cpu')\n",
        "tokenized_questions_t = tokenized_questions_t.view(tokenized_questions_t.size(1), tokenized_questions_t.size(0))\n",
        "ques_lens_t = torch.tensor(ques_lens, device = 'cpu')"
      ],
      "execution_count": 0,
      "outputs": []
    },
    {
      "cell_type": "code",
      "metadata": {
        "id": "jlorkL7XY3uS",
        "colab_type": "code",
        "outputId": "b52209be-7b59-4f31-84b6-d59b377d00a4",
        "colab": {
          "base_uri": "https://localhost:8080/",
          "height": 35
        }
      },
      "source": [
        "X = torch.nn.utils.rnn.pack_padded_sequence(tokenized_questions_t, ques_lens_t, enforce_sorted=False)\n",
        "X.data.shape"
      ],
      "execution_count": 0,
      "outputs": [
        {
          "output_type": "execute_result",
          "data": {
            "text/plain": [
              "torch.Size([1841439])"
            ]
          },
          "metadata": {
            "tags": []
          },
          "execution_count": 32
        }
      ]
    },
    {
      "cell_type": "code",
      "metadata": {
        "id": "cixTf9U4oFGq",
        "colab_type": "code",
        "outputId": "278f9ad6-ab79-40ba-9125-c21150355eff",
        "colab": {
          "base_uri": "https://localhost:8080/",
          "height": 35
        }
      },
      "source": [
        "len(tokenized_questions[0])"
      ],
      "execution_count": 0,
      "outputs": [
        {
          "output_type": "execute_result",
          "data": {
            "text/plain": [
              "48"
            ]
          },
          "metadata": {
            "tags": []
          },
          "execution_count": 35
        }
      ]
    },
    {
      "cell_type": "code",
      "metadata": {
        "id": "gfLHIYZ0Chdt",
        "colab_type": "code",
        "colab": {}
      },
      "source": [
        "# Genrator Parameters\n",
        "g_emb_dim = 768 # input_dim\n",
        "g_hidden_dim = 768\n",
        "g_sequence_len = 48"
      ],
      "execution_count": 0,
      "outputs": []
    },
    {
      "cell_type": "code",
      "metadata": {
        "id": "f5JRepHyCkRq",
        "colab_type": "code",
        "colab": {}
      },
      "source": [
        "def bert_embedding(tokenized_sentences, length):\n",
        "  return bert_model(tokenized_sentences)[0].view(length, -1, g_emb_dim)"
      ],
      "execution_count": 0,
      "outputs": []
    },
    {
      "cell_type": "code",
      "metadata": {
        "id": "wQ-YDnhW5_tA",
        "colab_type": "code",
        "colab": {}
      },
      "source": [
        "class GenDataIter(object):\n",
        "    \"\"\" Toy data iter to load digits\"\"\"\n",
        "    def __init__(self, data_file, batch_size):\n",
        "        super(GenDataIter, self).__init__()\n",
        "        self.batch_size = batch_size\n",
        "        self.data_lis, self.data_lens = self.read_file(data_file)\n",
        "        self.data_num = len(self.data_lis)\n",
        "        self.indices = range(self.data_num)\n",
        "        self.num_batches = int(math.ceil(float(self.data_num)/self.batch_size))\n",
        "        self.idx = 0\n",
        "\n",
        "    def __len__(self):\n",
        "        return self.num_batches\n",
        "\n",
        "    def __iter__(self):\n",
        "        return self\n",
        "\n",
        "    def __next__(self):\n",
        "        return self.next()\n",
        "\n",
        "    def reset(self):\n",
        "        self.idx = 0\n",
        "        random.shuffle(self.data_lis)\n",
        "\n",
        "    def next(self):\n",
        "        if self.idx >= self.data_num:\n",
        "            raise StopIteration\n",
        "        index = self.indices[self.idx:self.idx+self.batch_size]\n",
        "        pad_ques = [self.data_lis[i] for i in index]\n",
        "        lens = [self.data_lens[i] for i in index]\n",
        "        pad_ques_t = torch.tensor(pad_ques).transpose(0, 1)\n",
        "        lens_t = torch.LongTensor(lens, device = 'cpu')\n",
        "        #d = torch.LongTensor(np.asarray(d, dtype='int64')).to(device)\n",
        "        #data = torch.cat([torch.zeros(self.batch_size, 1, device=device).long(), d], dim=1).to(device)\n",
        "        #target = torch.cat([d, torch.zeros(self.batch_size, 1, device=device).long()], dim=1).to(device)\n",
        "        #target = torch.zeros(self.batch_size, 1).long()\n",
        "        self.idx += self.batch_size\n",
        "        return pad_ques_t, lens_t\n",
        "\n",
        "    def read_file(self, data_file):\n",
        "\n",
        "        with open(data_file, 'r') as f:\n",
        "            lines = f.readlines()\n",
        "        lens = []\n",
        "        lis = []\n",
        "        for line in lines:\n",
        "            l = line.strip().split(' ')\n",
        "            l = [int(s) for s in l]\n",
        "            lis.append(l)\n",
        "\n",
        "            len_l = 0\n",
        "            for i, id in enumerate(l):\n",
        "              if id != 0:\n",
        "                len_l = i + 1\n",
        "            lens.append(len_l)\n",
        "\n",
        "        return lis, lens"
      ],
      "execution_count": 0,
      "outputs": []
    },
    {
      "cell_type": "code",
      "metadata": {
        "id": "SDRUrJctFL08",
        "colab_type": "code",
        "colab": {}
      },
      "source": [
        "class Generator(nn.Module):\n",
        "    \"\"\"Generator \"\"\"\n",
        "    def __init__(self, num_emb, emb_dim, hidden_dim, device):\n",
        "        super(Generator, self).__init__()\n",
        "        self.num_emb = num_emb\n",
        "        self.emb_dim = emb_dim\n",
        "        self.hidden_dim = hidden_dim\n",
        "        self.device = device\n",
        "        #self.emb = nn.Embedding(num_emb, emb_dim)\n",
        "        self.lstm = nn.LSTM(emb_dim, hidden_dim)\n",
        "        self.lin = nn.Linear(hidden_dim, num_emb)\n",
        "        self.softmax = nn.LogSoftmax(dim = 1)\n",
        "        self.init_params()\n",
        "\n",
        "    def forward(self, pad_ques, lens):\n",
        "        \"\"\"\n",
        "        Args:\n",
        "            x: (batch_size, seq_len), sequence of tokens generated by generator\n",
        "        \"\"\"\n",
        "        #emb = self.emb(x).to(self.device)\n",
        "        emb = bert_embedding(pad_ques, pad_ques.size(0)).to(self.device)\n",
        "        x = torch.nn.utils.rnn.pack_padded_sequence(emb, lens, enforce_sorted=False).to(self.device)\n",
        "        h0, c0 = self.init_hidden(pad_ques.size(1))\n",
        "        h0, c0 = h0.to(self.device), c0.to(self.device)\n",
        "        self.lstm.flatten_parameters()\n",
        "        packed_output, (h, c) = self.lstm(x, (h0, c0))\n",
        "        packed_output, (h, c) = packed_output.to(self.device), (h.to(self.device), c.to(self.device))\n",
        "        pred = self.softmax(self.lin(h.contiguous().view(-1, g_hidden_dim))).to(self.device)\n",
        "\n",
        "        return pred\n",
        "\n",
        "    def step(self, x, h, c):\n",
        "        \"\"\"\n",
        "        Args:\n",
        "            x: (batch_size,  1), sequence of tokens generated by generator\n",
        "            h: (1, batch_size, hidden_dim), lstm hidden state\n",
        "            c: (1, batch_size, hidden_dim), lstm cell state\n",
        "        \"\"\"\n",
        "        #emb = self.emb(x).to(self.device)\n",
        "        emb = bert_embedding(x, x.size(1))\n",
        "        self.lstm.flatten_parameters()\n",
        "        output, (h, c) = self.lstm(emb, (h, c))\n",
        "        h, c = h.to(self.device), c.to(self.device)\n",
        "        pred = F.softmax(self.lin(output.view(-1, self.hidden_dim)), dim=1).to(self.device)\n",
        "        return pred, h, c\n",
        "\n",
        "\n",
        "    def init_hidden(self, batch_size):\n",
        "        h = Variable(torch.zeros((1, batch_size, self.hidden_dim))).to(self.device)\n",
        "        c = Variable(torch.zeros((1, batch_size, self.hidden_dim))).to(self.device)\n",
        "        return h, c\n",
        "\n",
        "    def init_params(self):\n",
        "        for param in self.parameters():\n",
        "            param.data.uniform_(-0.05, 0.05)\n",
        "\n",
        "    def sample(self, batch_size, seq_len, x=None):\n",
        "        res = []\n",
        "        flag = False # whether sample from zero\n",
        "        if x is None:\n",
        "            flag = True\n",
        "        if flag:\n",
        "            x = Variable(torch.zeros((batch_size, 1)).long()).to(self.device)\n",
        "        h, c = self.init_hidden(batch_size)\n",
        "        samples = []\n",
        "        if flag:\n",
        "            for i in range(seq_len):\n",
        "                output, h, c = self.step(x, h, c)\n",
        "                x = output.multinomial(1)\n",
        "                samples.append(x)\n",
        "        else:\n",
        "            given_len = x.size(1)\n",
        "            lis = x.chunk(x.size(1), dim=1)\n",
        "            for i in range(given_len):\n",
        "                output, h, c = self.step(lis[i], h, c)\n",
        "                samples.append(lis[i])\n",
        "            x = output.multinomial(1)\n",
        "            for i in range(given_len, seq_len):\n",
        "                samples.append(x)\n",
        "                output, h, c = self.step(x, h, c)\n",
        "                x = output.multinomial(1)\n",
        "        output = torch.cat(samples, dim=1).to(self.device)\n",
        "        return output"
      ],
      "execution_count": 0,
      "outputs": []
    },
    {
      "cell_type": "code",
      "metadata": {
        "id": "-IofcJxy6Lsb",
        "colab_type": "code",
        "colab": {}
      },
      "source": [
        "questions_data_iter = GenDataIter(QUESTION_FILE, BATCH_SIZE)"
      ],
      "execution_count": 0,
      "outputs": []
    },
    {
      "cell_type": "code",
      "metadata": {
        "id": "nruLKSRiFPgu",
        "colab_type": "code",
        "colab": {}
      },
      "source": [
        "generator = Generator(bert_tokenizer.vocab_size, g_emb_dim, g_hidden_dim, device)"
      ],
      "execution_count": 0,
      "outputs": []
    },
    {
      "cell_type": "code",
      "metadata": {
        "id": "CnVki31i7qXm",
        "colab_type": "code",
        "colab": {}
      },
      "source": [
        "num_emb = bert_tokenizer.vocab_size\n",
        "emb_dim = g_emb_dim\n",
        "hidden_dim = g_hidden_dim\n",
        "lstm = nn.LSTM(emb_dim, hidden_dim)\n",
        "lin = nn.Linear(hidden_dim, num_emb)\n",
        "softmax = nn.LogSoftmax(dim = 1)"
      ],
      "execution_count": 0,
      "outputs": []
    },
    {
      "cell_type": "code",
      "metadata": {
        "id": "d1imxakn6V_7",
        "colab_type": "code",
        "colab": {}
      },
      "source": [
        "for pad_ques, lens in questions_data_iter:\n",
        "  \n",
        "  break"
      ],
      "execution_count": 0,
      "outputs": []
    },
    {
      "cell_type": "code",
      "metadata": {
        "id": "-To_2_BK8WN5",
        "colab_type": "code",
        "colab": {}
      },
      "source": [
        "emb = bert_embedding(pad_ques, pad_ques.size(0)).to(device)"
      ],
      "execution_count": 0,
      "outputs": []
    },
    {
      "cell_type": "code",
      "metadata": {
        "id": "h999p1y2S6vJ",
        "colab_type": "code",
        "outputId": "68add7a2-010d-4743-bcf6-2bf567c9502f",
        "colab": {
          "base_uri": "https://localhost:8080/",
          "height": 35
        }
      },
      "source": [
        "lens.type()"
      ],
      "execution_count": 0,
      "outputs": [
        {
          "output_type": "execute_result",
          "data": {
            "text/plain": [
              "'torch.LongTensor'"
            ]
          },
          "metadata": {
            "tags": []
          },
          "execution_count": 30
        }
      ]
    },
    {
      "cell_type": "code",
      "metadata": {
        "id": "kuWBBlWH9x27",
        "colab_type": "code",
        "outputId": "c56c31a3-8bd1-4490-88c6-97ea26b348ce",
        "colab": {
          "base_uri": "https://localhost:8080/",
          "height": 288
        }
      },
      "source": [
        "x = torch.nn.utils.rnn.pack_padded_sequence(emb, lens, enforce_sorted=False).to(device)"
      ],
      "execution_count": 0,
      "outputs": [
        {
          "output_type": "error",
          "ename": "RuntimeError",
          "evalue": "ignored",
          "traceback": [
            "\u001b[0;31m---------------------------------------------------------------------------\u001b[0m",
            "\u001b[0;31mRuntimeError\u001b[0m                              Traceback (most recent call last)",
            "\u001b[0;32m<ipython-input-23-b67aa1e5b041>\u001b[0m in \u001b[0;36m<module>\u001b[0;34m()\u001b[0m\n\u001b[0;32m----> 1\u001b[0;31m \u001b[0mx\u001b[0m \u001b[0;34m=\u001b[0m \u001b[0mtorch\u001b[0m\u001b[0;34m.\u001b[0m\u001b[0mnn\u001b[0m\u001b[0;34m.\u001b[0m\u001b[0mutils\u001b[0m\u001b[0;34m.\u001b[0m\u001b[0mrnn\u001b[0m\u001b[0;34m.\u001b[0m\u001b[0mpack_padded_sequence\u001b[0m\u001b[0;34m(\u001b[0m\u001b[0memb\u001b[0m\u001b[0;34m,\u001b[0m \u001b[0mlens\u001b[0m\u001b[0;34m,\u001b[0m \u001b[0menforce_sorted\u001b[0m\u001b[0;34m=\u001b[0m\u001b[0;32mFalse\u001b[0m\u001b[0;34m)\u001b[0m\u001b[0;34m.\u001b[0m\u001b[0mto\u001b[0m\u001b[0;34m(\u001b[0m\u001b[0mdevice\u001b[0m\u001b[0;34m)\u001b[0m\u001b[0;34m\u001b[0m\u001b[0;34m\u001b[0m\u001b[0m\n\u001b[0m",
            "\u001b[0;32m/usr/local/lib/python3.6/dist-packages/torch/nn/utils/rnn.py\u001b[0m in \u001b[0;36mpack_padded_sequence\u001b[0;34m(input, lengths, batch_first, enforce_sorted)\u001b[0m\n\u001b[1;32m    231\u001b[0m \u001b[0;34m\u001b[0m\u001b[0m\n\u001b[1;32m    232\u001b[0m     \u001b[0mdata\u001b[0m\u001b[0;34m,\u001b[0m \u001b[0mbatch_sizes\u001b[0m \u001b[0;34m=\u001b[0m\u001b[0;31m \u001b[0m\u001b[0;31m\\\u001b[0m\u001b[0;34m\u001b[0m\u001b[0;34m\u001b[0m\u001b[0m\n\u001b[0;32m--> 233\u001b[0;31m         \u001b[0m_VF\u001b[0m\u001b[0;34m.\u001b[0m\u001b[0m_pack_padded_sequence\u001b[0m\u001b[0;34m(\u001b[0m\u001b[0minput\u001b[0m\u001b[0;34m,\u001b[0m \u001b[0mlengths\u001b[0m\u001b[0;34m,\u001b[0m \u001b[0mbatch_first\u001b[0m\u001b[0;34m)\u001b[0m\u001b[0;34m\u001b[0m\u001b[0;34m\u001b[0m\u001b[0m\n\u001b[0m\u001b[1;32m    234\u001b[0m     \u001b[0;32mreturn\u001b[0m \u001b[0mPackedSequence\u001b[0m\u001b[0;34m(\u001b[0m\u001b[0mdata\u001b[0m\u001b[0;34m,\u001b[0m \u001b[0mbatch_sizes\u001b[0m\u001b[0;34m,\u001b[0m \u001b[0msorted_indices\u001b[0m\u001b[0;34m,\u001b[0m \u001b[0;32mNone\u001b[0m\u001b[0;34m)\u001b[0m\u001b[0;34m\u001b[0m\u001b[0;34m\u001b[0m\u001b[0m\n\u001b[1;32m    235\u001b[0m \u001b[0;34m\u001b[0m\u001b[0m\n",
            "\u001b[0;31mRuntimeError\u001b[0m: 'lengths' argument should be a 1D CPU int64 tensor"
          ]
        }
      ]
    },
    {
      "cell_type": "code",
      "metadata": {
        "id": "MWAAtmBL98c3",
        "colab_type": "code",
        "colab": {}
      },
      "source": [
        "h0, c0 = generator.init_hidden(pad_ques.size(1))\n",
        "h0, c0 = h0.to(device), c0.to(device)"
      ],
      "execution_count": 0,
      "outputs": []
    },
    {
      "cell_type": "code",
      "metadata": {
        "id": "5HgTQa2X99nr",
        "colab_type": "code",
        "colab": {}
      },
      "source": [
        "lstm.flatten_parameters()"
      ],
      "execution_count": 0,
      "outputs": []
    },
    {
      "cell_type": "code",
      "metadata": {
        "id": "Ou5rp147-cxe",
        "colab_type": "code",
        "outputId": "d04aaa6f-73a3-46a7-86fc-d06ba0bf7c0e",
        "colab": {
          "base_uri": "https://localhost:8080/",
          "height": 35
        }
      },
      "source": [
        "emb.shape"
      ],
      "execution_count": 0,
      "outputs": [
        {
          "output_type": "execute_result",
          "data": {
            "text/plain": [
              "torch.Size([48, 64, 768])"
            ]
          },
          "metadata": {
            "tags": []
          },
          "execution_count": 26
        }
      ]
    },
    {
      "cell_type": "code",
      "metadata": {
        "id": "f2zIrV75-Bh4",
        "colab_type": "code",
        "colab": {}
      },
      "source": [
        "packed_output, (h, c) = lstm(x, (h0, c0))"
      ],
      "execution_count": 0,
      "outputs": []
    },
    {
      "cell_type": "code",
      "metadata": {
        "id": "_cpwVtAq-DAP",
        "colab_type": "code",
        "colab": {}
      },
      "source": [
        "packed_output, (h, c) = packed_output.to(device), (h.to(device), c.to(device))\n",
        "pred = softmax(lin(h.contiguous().view(-1, g_hidden_dim))).to(device)\n",
        "print(pred)"
      ],
      "execution_count": 0,
      "outputs": []
    },
    {
      "cell_type": "code",
      "metadata": {
        "id": "Z9c3HxyO8WWf",
        "colab_type": "code",
        "colab": {}
      },
      "source": [
        ""
      ],
      "execution_count": 0,
      "outputs": []
    },
    {
      "cell_type": "code",
      "metadata": {
        "id": "j6L4NKyP8WUe",
        "colab_type": "code",
        "colab": {}
      },
      "source": [
        ""
      ],
      "execution_count": 0,
      "outputs": []
    },
    {
      "cell_type": "code",
      "metadata": {
        "id": "tN1kh3Xf57tk",
        "colab_type": "code",
        "colab": {}
      },
      "source": [
        ""
      ],
      "execution_count": 0,
      "outputs": []
    },
    {
      "cell_type": "code",
      "metadata": {
        "id": "tUMpDXn05773",
        "colab_type": "code",
        "colab": {}
      },
      "source": [
        ""
      ],
      "execution_count": 0,
      "outputs": []
    },
    {
      "cell_type": "code",
      "metadata": {
        "id": "eB86CxEP575I",
        "colab_type": "code",
        "colab": {}
      },
      "source": [
        ""
      ],
      "execution_count": 0,
      "outputs": []
    },
    {
      "cell_type": "code",
      "metadata": {
        "id": "1aNniSPE5725",
        "colab_type": "code",
        "colab": {}
      },
      "source": [
        ""
      ],
      "execution_count": 0,
      "outputs": []
    },
    {
      "cell_type": "code",
      "metadata": {
        "id": "AO8BopiY570f",
        "colab_type": "code",
        "colab": {}
      },
      "source": [
        ""
      ],
      "execution_count": 0,
      "outputs": []
    },
    {
      "cell_type": "code",
      "metadata": {
        "id": "H_c6vk3657xo",
        "colab_type": "code",
        "colab": {}
      },
      "source": [
        ""
      ],
      "execution_count": 0,
      "outputs": []
    },
    {
      "cell_type": "code",
      "metadata": {
        "id": "lvMUScr457u2",
        "colab_type": "code",
        "colab": {}
      },
      "source": [
        ""
      ],
      "execution_count": 0,
      "outputs": []
    },
    {
      "cell_type": "code",
      "metadata": {
        "id": "DVjPXbrn57p9",
        "colab_type": "code",
        "colab": {}
      },
      "source": [
        ""
      ],
      "execution_count": 0,
      "outputs": []
    },
    {
      "cell_type": "code",
      "metadata": {
        "id": "D0sx3wka57ni",
        "colab_type": "code",
        "colab": {}
      },
      "source": [
        ""
      ],
      "execution_count": 0,
      "outputs": []
    },
    {
      "cell_type": "code",
      "metadata": {
        "id": "Z3qir9kq57kX",
        "colab_type": "code",
        "colab": {}
      },
      "source": [
        ""
      ],
      "execution_count": 0,
      "outputs": []
    },
    {
      "cell_type": "code",
      "metadata": {
        "id": "dif_gz3nQnlT",
        "colab_type": "code",
        "colab": {}
      },
      "source": [
        "class Generator(nn.Module):\n",
        "    \"\"\"Generator \"\"\"\n",
        "    def __init__(self, num_emb, emb_dim, hidden_dim, device):\n",
        "        super(Generator, self).__init__()\n",
        "        self.num_emb = num_emb\n",
        "        self.emb_dim = emb_dim\n",
        "        self.hidden_dim = hidden_dim\n",
        "        self.device = device\n",
        "        #self.emb = nn.Embedding(num_emb, emb_dim)\n",
        "        self.lstm = nn.LSTM(emb_dim, hidden_dim)\n",
        "        self.lin = nn.Linear(hidden_dim, num_emb)\n",
        "        self.softmax = nn.LogSoftmax(dim = 1)\n",
        "        self.init_params()\n",
        "\n",
        "    def forward(self, x):\n",
        "        \"\"\"\n",
        "        Args:\n",
        "            x: (batch_size, seq_len), sequence of tokens generated by generator\n",
        "        \"\"\"\n",
        "        #emb = self.emb(x).to(self.device)\n",
        "        emb = bert_embedding(x, x.size(1))\n",
        "        print(emb.shape)\n",
        "        h0, c0 = self.init_hidden(x.size(0))\n",
        "        h0, c0 = h0.to(self.device), c0.to(self.device)\n",
        "        self.lstm.flatten_parameters()\n",
        "        output, (h, c) = self.lstm(emb, (h0, c0))\n",
        "        output, (h, c) = output.to(self.device), (h.to(self.device), c.to(self.device))\n",
        "        pred = self.softmax(self.lin(output.contiguous().view(-1, self.hidden_dim))).to(self.device)\n",
        "        #pred = self.softmax(self.lin(output.contiguous().view(-1, self.hidden_dim))).to(self.device)\n",
        "        return pred\n",
        "\n",
        "    def step(self, x, h, c):\n",
        "        \"\"\"\n",
        "        Args:\n",
        "            x: (batch_size,  1), sequence of tokens generated by generator\n",
        "            h: (1, batch_size, hidden_dim), lstm hidden state\n",
        "            c: (1, batch_size, hidden_dim), lstm cell state\n",
        "        \"\"\"\n",
        "        #emb = self.emb(x).to(self.device)\n",
        "        emb = bert_embedding(x, x.size(1))\n",
        "        self.lstm.flatten_parameters()\n",
        "        output, (h, c) = self.lstm(emb, (h, c))\n",
        "        h, c = h.to(self.device), c.to(self.device)\n",
        "        pred = F.softmax(self.lin(output.view(-1, self.hidden_dim)), dim=1).to(self.device)\n",
        "        return pred, h, c\n",
        "\n",
        "\n",
        "    def init_hidden(self, batch_size):\n",
        "        h = Variable(torch.zeros((1, batch_size, self.hidden_dim))).to(self.device)\n",
        "        c = Variable(torch.zeros((1, batch_size, self.hidden_dim))).to(self.device)\n",
        "        return h, c\n",
        "\n",
        "    def init_params(self):\n",
        "        for param in self.parameters():\n",
        "            param.data.uniform_(-0.05, 0.05)\n",
        "\n",
        "    def sample(self, batch_size, seq_len, x=None):\n",
        "        res = []\n",
        "        flag = False # whether sample from zero\n",
        "        if x is None:\n",
        "            flag = True\n",
        "        if flag:\n",
        "            x = Variable(torch.zeros((batch_size, 1)).long()).to(self.device)\n",
        "        h, c = self.init_hidden(batch_size)\n",
        "        samples = []\n",
        "        if flag:\n",
        "            for i in range(seq_len):\n",
        "                output, h, c = self.step(x, h, c)\n",
        "                x = output.multinomial(1)\n",
        "                samples.append(x)\n",
        "        else:\n",
        "            given_len = x.size(1)\n",
        "            lis = x.chunk(x.size(1), dim=1)\n",
        "            for i in range(given_len):\n",
        "                output, h, c = self.step(lis[i], h, c)\n",
        "                samples.append(lis[i])\n",
        "            x = output.multinomial(1)\n",
        "            for i in range(given_len, seq_len):\n",
        "                samples.append(x)\n",
        "                output, h, c = self.step(x, h, c)\n",
        "                x = output.multinomial(1)\n",
        "        output = torch.cat(samples, dim=1).to(self.device)\n",
        "        return output"
      ],
      "execution_count": 0,
      "outputs": []
    },
    {
      "cell_type": "code",
      "metadata": {
        "id": "qnvK1sM4Tobr",
        "colab_type": "code",
        "colab": {}
      },
      "source": [
        "# Genrator Parameters\n",
        "g_emb_dim = 768 # input_dim\n",
        "g_hidden_dim = 768\n",
        "g_sequence_len = 63"
      ],
      "execution_count": 0,
      "outputs": []
    },
    {
      "cell_type": "code",
      "metadata": {
        "id": "z0C_L_dqVo3r",
        "colab_type": "code",
        "colab": {}
      },
      "source": [
        "\n",
        "def bert_embedding(tokenized_sentences, length):\n",
        "  return bert_model(tokenized_sentences)[0].view(length, -1, g_emb_dim)"
      ],
      "execution_count": 0,
      "outputs": []
    },
    {
      "cell_type": "code",
      "metadata": {
        "id": "qfVl_632gsKH",
        "colab_type": "code",
        "colab": {}
      },
      "source": [
        "generator = Generator(bert_tokenizer.vocab_size, g_emb_dim, g_hidden_dim, device)"
      ],
      "execution_count": 0,
      "outputs": []
    },
    {
      "cell_type": "code",
      "metadata": {
        "id": "T8OiZ34pgsFN",
        "colab_type": "code",
        "colab": {}
      },
      "source": [
        "generator.forward(X)"
      ],
      "execution_count": 0,
      "outputs": []
    },
    {
      "cell_type": "code",
      "metadata": {
        "id": "Ihls-u1352AT",
        "colab_type": "code",
        "colab": {}
      },
      "source": [
        "seqs = ['gigantic_string','tiny_str','medium_str']"
      ],
      "execution_count": 0,
      "outputs": []
    },
    {
      "cell_type": "code",
      "metadata": {
        "id": "xZJHhdZY-bQF",
        "colab_type": "code",
        "outputId": "62ed8648-11d0-411d-cf8e-8c48603920d3",
        "colab": {
          "base_uri": "https://localhost:8080/",
          "height": 35
        }
      },
      "source": [
        "# make <pad> idx 0\n",
        "vocab = ['<pad>'] + sorted(set(''.join(seqs)))\n",
        "vocab"
      ],
      "execution_count": 0,
      "outputs": [
        {
          "output_type": "execute_result",
          "data": {
            "text/plain": [
              "['<pad>', '_', 'a', 'c', 'd', 'e', 'g', 'i', 'm', 'n', 'r', 's', 't', 'u', 'y']"
            ]
          },
          "metadata": {
            "tags": []
          },
          "execution_count": 80
        }
      ]
    },
    {
      "cell_type": "code",
      "metadata": {
        "id": "H8vnJlLd-dSc",
        "colab_type": "code",
        "colab": {}
      },
      "source": [
        "# make model\n",
        "embed = nn.Embedding(len(vocab), 10).cuda()\n",
        "lstm = nn.LSTM(10, 5).cuda()"
      ],
      "execution_count": 0,
      "outputs": []
    },
    {
      "cell_type": "code",
      "metadata": {
        "id": "SIQXwpZ7-gqM",
        "colab_type": "code",
        "outputId": "3553110c-57fb-4671-dc3f-cff6a32df96c",
        "colab": {
          "base_uri": "https://localhost:8080/",
          "height": 35
        }
      },
      "source": [
        "vectorized_seqs = [[vocab.index(tok) for tok in seq] for seq in seqs]\n",
        "# get the length of each seq in your batch\n",
        "seq_lengths = torch.LongTensor([len(seq) for seq in vectorized_seqs]).cuda()\n",
        "seq_lengths"
      ],
      "execution_count": 0,
      "outputs": [
        {
          "output_type": "execute_result",
          "data": {
            "text/plain": [
              "tensor([15,  8, 10], device='cuda:0')"
            ]
          },
          "metadata": {
            "tags": []
          },
          "execution_count": 82
        }
      ]
    },
    {
      "cell_type": "code",
      "metadata": {
        "id": "8kMbwaZC-ikB",
        "colab_type": "code",
        "outputId": "b0883d86-d569-45e8-acb4-7ff0f7551418",
        "colab": {
          "base_uri": "https://localhost:8080/",
          "height": 87
        }
      },
      "source": [
        "# dump padding everywhere, and place seqs on the left.\n",
        "# NOTE: you only need a tensor as big as your longest sequence\n",
        "seq_tensor = torch.zeros((len(vectorized_seqs), seq_lengths.max())).long().cuda()\n",
        "for idx, (seq, seqlen) in enumerate(zip(vectorized_seqs, seq_lengths)):\n",
        "\tseq_tensor[idx, :seqlen] = torch.LongTensor(seq)\n",
        "seq_tensor"
      ],
      "execution_count": 0,
      "outputs": [
        {
          "output_type": "execute_result",
          "data": {
            "text/plain": [
              "tensor([[ 6,  7,  6,  2,  9, 12,  7,  3,  1, 11, 12, 10,  7,  9,  6],\n",
              "        [12,  7,  9, 14,  1, 11, 12, 10,  0,  0,  0,  0,  0,  0,  0],\n",
              "        [ 8,  5,  4,  7, 13,  8,  1, 11, 12, 10,  0,  0,  0,  0,  0]],\n",
              "       device='cuda:0')"
            ]
          },
          "metadata": {
            "tags": []
          },
          "execution_count": 83
        }
      ]
    },
    {
      "cell_type": "code",
      "metadata": {
        "id": "kCs_GLR--nFm",
        "colab_type": "code",
        "outputId": "f933063f-36a4-4fc9-eb32-e3868c561d21",
        "colab": {
          "base_uri": "https://localhost:8080/",
          "height": 35
        }
      },
      "source": [
        "seq_tensor.shape"
      ],
      "execution_count": 0,
      "outputs": [
        {
          "output_type": "execute_result",
          "data": {
            "text/plain": [
              "torch.Size([3, 15])"
            ]
          },
          "metadata": {
            "tags": []
          },
          "execution_count": 84
        }
      ]
    },
    {
      "cell_type": "code",
      "metadata": {
        "id": "7z674hWO-sEM",
        "colab_type": "code",
        "outputId": "744d3a58-e16c-4590-d6bd-77b6f5a8d23b",
        "colab": {
          "base_uri": "https://localhost:8080/",
          "height": 87
        }
      },
      "source": [
        "# SORT YOUR TENSORS BY LENGTH!\n",
        "seq_lengths, perm_idx = seq_lengths.sort(0, descending=True)\n",
        "seq_tensor = seq_tensor[perm_idx]\n",
        "seq_tensor"
      ],
      "execution_count": 0,
      "outputs": [
        {
          "output_type": "execute_result",
          "data": {
            "text/plain": [
              "tensor([[ 6,  7,  6,  2,  9, 12,  7,  3,  1, 11, 12, 10,  7,  9,  6],\n",
              "        [ 8,  5,  4,  7, 13,  8,  1, 11, 12, 10,  0,  0,  0,  0,  0],\n",
              "        [12,  7,  9, 14,  1, 11, 12, 10,  0,  0,  0,  0,  0,  0,  0]],\n",
              "       device='cuda:0')"
            ]
          },
          "metadata": {
            "tags": []
          },
          "execution_count": 85
        }
      ]
    },
    {
      "cell_type": "code",
      "metadata": {
        "id": "6d2KWwhq-x4t",
        "colab_type": "code",
        "colab": {}
      },
      "source": [
        "\n",
        "# utils.rnn lets you give (B,L,D) tensors where B is the batch size, L is the maxlength, if you use batch_first=True\n",
        "# Otherwise, give (L,B,D) tensors\n",
        "seq_tensor = seq_tensor.transpose(0,1) # (B,L,D) -> (L,B,D)\n",
        "\n",
        "# embed your sequences\n",
        "seq_tensor = embed(seq_tensor)\n",
        "\n",
        "# pack them up nicely\n",
        "packed_input = pack_padded_sequence(seq_tensor, seq_lengths.cpu().numpy())\n",
        "\n",
        "# throw them through your LSTM (remember to give batch_first=True here if you packed with it)\n",
        "packed_output, (ht, ct) = lstm(packed_input)\n",
        "\n",
        "# unpack your output if required\n",
        "output, _ = pad_packed_sequence(packed_output)\n",
        "print (output)\n",
        "\n",
        "# Or if you just want the final hidden state?\n",
        "print (ht[-1])\n",
        "\n",
        "# REMEMBER: Your outputs are sorted. If you want the original ordering\n",
        "# back (to compare to some gt labels) unsort them\n",
        "_, unperm_idx = perm_idx.sort(0)\n",
        "output = output[unperm_idx]\n",
        "print (output)"
      ],
      "execution_count": 0,
      "outputs": []
    },
    {
      "cell_type": "code",
      "metadata": {
        "id": "Ms-wscRp5193",
        "colab_type": "code",
        "colab": {}
      },
      "source": [
        ""
      ],
      "execution_count": 0,
      "outputs": []
    },
    {
      "cell_type": "code",
      "metadata": {
        "id": "sisrL6tZ517h",
        "colab_type": "code",
        "colab": {}
      },
      "source": [
        ""
      ],
      "execution_count": 0,
      "outputs": []
    },
    {
      "cell_type": "code",
      "metadata": {
        "id": "Gh3u7dIz514J",
        "colab_type": "code",
        "colab": {}
      },
      "source": [
        ""
      ],
      "execution_count": 0,
      "outputs": []
    },
    {
      "cell_type": "code",
      "metadata": {
        "id": "1BqIKiSw510s",
        "colab_type": "code",
        "colab": {}
      },
      "source": [
        ""
      ],
      "execution_count": 0,
      "outputs": []
    },
    {
      "cell_type": "code",
      "metadata": {
        "id": "jpAuIpxigsA9",
        "colab_type": "code",
        "colab": {}
      },
      "source": [
        ""
      ],
      "execution_count": 0,
      "outputs": []
    },
    {
      "cell_type": "code",
      "metadata": {
        "id": "_7lumsKLXYaD",
        "colab_type": "code",
        "colab": {}
      },
      "source": [
        "def train_epoch(model, data_iter, criterion, optimizer):\n",
        "    total_loss = 0.\n",
        "    total_words = 0.\n",
        "    for (data, target) in data_iter:\n",
        "        data = Variable(data)\n",
        "        target = Variable(target)\n",
        "        data, target = data.to(device), target.to(device)\n",
        "        target = target.contiguous().view(-1)\n",
        "        pred = model.forward(data)\n",
        "        loss = criterion(pred, target)\n",
        "        total_loss += loss.item()\n",
        "        total_words += data.size(0) * data.size(1)\n",
        "        optimizer.zero_grad()\n",
        "        loss.backward()\n",
        "        optimizer.step()\n",
        "    data_iter.reset()\n",
        "    return math.exp(total_loss / total_words)"
      ],
      "execution_count": 0,
      "outputs": []
    },
    {
      "cell_type": "code",
      "metadata": {
        "id": "afGYBsFSXYc1",
        "colab_type": "code",
        "colab": {}
      },
      "source": [
        "def eval_epoch(model, data_iter, criterion):\n",
        "    total_loss = 0.\n",
        "    total_words = 0.\n",
        "    with torch.no_grad():\n",
        "        for (data, target) in data_iter:\n",
        "            data = Variable(data)\n",
        "            target = Variable(target)\n",
        "            data, target = data.to(device), target.to(device)\n",
        "            target = target.contiguous().view(-1)\n",
        "            pred = model.forward(data)\n",
        "            loss = criterion(pred, target)\n",
        "            total_loss += loss.item()\n",
        "            total_words += data.size(0) * data.size(1)\n",
        "        data_iter.reset()\n",
        "\n",
        "    assert total_words > 0  # Otherwise NullpointerException\n",
        "    return math.exp(total_loss / total_words)"
      ],
      "execution_count": 0,
      "outputs": []
    },
    {
      "cell_type": "code",
      "metadata": {
        "id": "ky6HQROuZv-u",
        "colab_type": "code",
        "colab": {}
      },
      "source": [
        "def generate_samples(model, batch_size, generated_num, output_file):\n",
        "    samples = []\n",
        "    for _ in range(int(generated_num / batch_size)):\n",
        "        sample = model.sample(batch_size, g_sequence_len).cpu().data.numpy().tolist()\n",
        "        samples.extend(sample)\n",
        "    with open(output_file, 'w') as fout:\n",
        "        for sample in samples:\n",
        "            string = ' '.join([str(s) for s in sample])\n",
        "            fout.write('%s\\n' % string)"
      ],
      "execution_count": 0,
      "outputs": []
    },
    {
      "cell_type": "code",
      "metadata": {
        "id": "5q8ROqo0HQ42",
        "colab_type": "code",
        "colab": {}
      },
      "source": [
        "class GenDataIter(object):\n",
        "    \"\"\" Toy data iter to load digits\"\"\"\n",
        "    def __init__(self, data_file, batch_size):\n",
        "        super(GenDataIter, self).__init__()\n",
        "        self.batch_size = batch_size\n",
        "        self.data_lis, self.data_lens = self.read_file(data_file)\n",
        "        self.data_num = len(self.data_lis)\n",
        "        self.indices = range(self.data_num)\n",
        "        self.num_batches = int(math.ceil(float(self.data_num)/self.batch_size))\n",
        "        self.idx = 0\n",
        "\n",
        "    def __len__(self):\n",
        "        return self.num_batches\n",
        "\n",
        "    def __iter__(self):\n",
        "        return self\n",
        "\n",
        "    def __next__(self):\n",
        "        return self.next()\n",
        "\n",
        "    def reset(self):\n",
        "        self.idx = 0\n",
        "        random.shuffle(self.data_lis)\n",
        "\n",
        "    def next(self):\n",
        "        if self.idx >= self.data_num:\n",
        "            raise StopIteration\n",
        "        index = self.indices[self.idx:self.idx+self.batch_size]\n",
        "        d = [self.data_lis[i] for i in index]\n",
        "        d = torch.LongTensor(np.asarray(d, dtype='int64')).to(device)\n",
        "        #data = d\n",
        "        data = torch.cat([torch.zeros(self.batch_size, 1, device=device).long(), d], dim=1).to(device)\n",
        "        target = torch.cat([d, torch.zeros(self.batch_size, 1, device=device).long()], dim=1).to(device)\n",
        "        #target = torch.zeros(self.batch_size, 1).long()\n",
        "        self.idx += self.batch_size\n",
        "        return data, target\n",
        "\n",
        "    def read_file(self, data_file):\n",
        "\n",
        "        with open(data_file, 'r') as f:\n",
        "            lines = f.readlines()\n",
        "        lens = []\n",
        "        lis = []\n",
        "        for line in lines:\n",
        "            l = line.strip().split(' ')\n",
        "            l = [int(s) for s in l]\n",
        "            lis.append(l)\n",
        "\n",
        "            len_l = 0\n",
        "            for i, id in enumerate(l):\n",
        "              if id != 0:\n",
        "                len_l = i + 1\n",
        "            lens.append(len_l)\n",
        "\n",
        "        return lis, lens"
      ],
      "execution_count": 0,
      "outputs": []
    },
    {
      "cell_type": "code",
      "metadata": {
        "id": "Bs8_lyWlok5X",
        "colab_type": "code",
        "colab": {}
      },
      "source": [
        "class Generator(nn.Module):\n",
        "    \"\"\"Generator \"\"\"\n",
        "    def __init__(self, num_emb, emb_dim, hidden_dim, device):\n",
        "        super(Generator, self).__init__()\n",
        "        self.num_emb = num_emb\n",
        "        self.emb_dim = emb_dim\n",
        "        self.hidden_dim = hidden_dim\n",
        "        self.device = device\n",
        "        #self.emb = nn.Embedding(num_emb, emb_dim)\n",
        "        self.lstm = nn.LSTM(emb_dim, hidden_dim)\n",
        "        self.lin = nn.Linear(hidden_dim, num_emb)\n",
        "        self.softmax = nn.LogSoftmax(dim = 1)\n",
        "        self.init_params()\n",
        "\n",
        "    def forward(self, x):\n",
        "        \"\"\"\n",
        "        Args:\n",
        "            x: (batch_size, seq_len), sequence of tokens generated by generator\n",
        "        \"\"\"\n",
        "        #emb = self.emb(x).to(self.device)\n",
        "        emb = bert_embedding(x, x.size(1))\n",
        "        h0, c0 = self.init_hidden(x.size(0))\n",
        "        h0, c0 = h0.to(self.device), c0.to(self.device)\n",
        "        self.lstm.flatten_parameters()\n",
        "        output, (h, c) = self.lstm(emb, (h0, c0))\n",
        "        output, (h, c) = output.to(self.device), (h.to(self.device), c.to(self.device))\n",
        "        pred = self.softmax(self.lin(output.contiguous().view(-1, self.hidden_dim))).to(self.device)\n",
        "        #pred = self.softmax(self.lin(output.contiguous().view(-1, self.hidden_dim))).to(self.device)\n",
        "        return pred\n",
        "\n",
        "    def step(self, x, h, c):\n",
        "        \"\"\"\n",
        "        Args:\n",
        "            x: (batch_size,  1), sequence of tokens generated by generator\n",
        "            h: (1, batch_size, hidden_dim), lstm hidden state\n",
        "            c: (1, batch_size, hidden_dim), lstm cell state\n",
        "        \"\"\"\n",
        "        #emb = self.emb(x).to(self.device)\n",
        "        emb = bert_embedding(x, x.size(1))\n",
        "        self.lstm.flatten_parameters()\n",
        "        output, (h, c) = self.lstm(emb, (h, c))\n",
        "        h, c = h.to(self.device), c.to(self.device)\n",
        "        pred = F.softmax(self.lin(output.view(-1, self.hidden_dim)), dim=1).to(self.device)\n",
        "        return pred, h, c\n",
        "\n",
        "\n",
        "    def init_hidden(self, batch_size):\n",
        "        h = Variable(torch.zeros((1, batch_size, self.hidden_dim))).to(self.device)\n",
        "        c = Variable(torch.zeros((1, batch_size, self.hidden_dim))).to(self.device)\n",
        "        return h, c\n",
        "\n",
        "    def init_params(self):\n",
        "        for param in self.parameters():\n",
        "            param.data.uniform_(-0.05, 0.05)\n",
        "\n",
        "    def sample(self, batch_size, seq_len, x=None):\n",
        "        res = []\n",
        "        flag = False # whether sample from zero\n",
        "        if x is None:\n",
        "            flag = True\n",
        "        if flag:\n",
        "            x = Variable(torch.zeros((batch_size, 1)).long()).to(self.device)\n",
        "        h, c = self.init_hidden(batch_size)\n",
        "        samples = []\n",
        "        if flag:\n",
        "            for i in range(seq_len):\n",
        "                output, h, c = self.step(x, h, c)\n",
        "                x = output.multinomial(1)\n",
        "                samples.append(x)\n",
        "        else:\n",
        "            given_len = x.size(1)\n",
        "            lis = x.chunk(x.size(1), dim=1)\n",
        "            for i in range(given_len):\n",
        "                output, h, c = self.step(lis[i], h, c)\n",
        "                samples.append(lis[i])\n",
        "            x = output.multinomial(1)\n",
        "            for i in range(given_len, seq_len):\n",
        "                samples.append(x)\n",
        "                output, h, c = self.step(x, h, c)\n",
        "                x = output.multinomial(1)\n",
        "        output = torch.cat(samples, dim=1).to(self.device)\n",
        "        return output"
      ],
      "execution_count": 0,
      "outputs": []
    },
    {
      "cell_type": "code",
      "metadata": {
        "id": "du25yJdPXYhB",
        "colab_type": "code",
        "colab": {}
      },
      "source": [
        "# Define Networks\n",
        "generator = Generator(bert_tokenizer.vocab_size, g_emb_dim, g_hidden_dim, device)"
      ],
      "execution_count": 0,
      "outputs": []
    },
    {
      "cell_type": "code",
      "metadata": {
        "id": "bEZeABneFLn5",
        "colab_type": "code",
        "outputId": "899272f4-e4cf-45a0-ac8d-ba21e68fbc18",
        "colab": {
          "base_uri": "https://localhost:8080/",
          "height": 167
        }
      },
      "source": [
        "questions_data_iter = GenDataIter(QUESTION_FILE, BATCH_SIZE)"
      ],
      "execution_count": 0,
      "outputs": [
        {
          "output_type": "error",
          "ename": "NameError",
          "evalue": "ignored",
          "traceback": [
            "\u001b[0;31m---------------------------------------------------------------------------\u001b[0m",
            "\u001b[0;31mNameError\u001b[0m                                 Traceback (most recent call last)",
            "\u001b[0;32m<ipython-input-40-85718b1c3577>\u001b[0m in \u001b[0;36m<module>\u001b[0;34m()\u001b[0m\n\u001b[0;32m----> 1\u001b[0;31m \u001b[0mquestions_data_iter\u001b[0m \u001b[0;34m=\u001b[0m \u001b[0mGenDataIter\u001b[0m\u001b[0;34m(\u001b[0m\u001b[0mQUESTION_FILE\u001b[0m\u001b[0;34m,\u001b[0m \u001b[0mBATCH_SIZE\u001b[0m\u001b[0;34m)\u001b[0m\u001b[0;34m\u001b[0m\u001b[0;34m\u001b[0m\u001b[0m\n\u001b[0m",
            "\u001b[0;31mNameError\u001b[0m: name 'GenDataIter' is not defined"
          ]
        }
      ]
    },
    {
      "cell_type": "code",
      "metadata": {
        "id": "YQMxy6rJYAP0",
        "colab_type": "code",
        "colab": {}
      },
      "source": [
        "gen_criterion = nn.NLLLoss(reduction='sum').to(device)\n",
        "gen_optimizer = optim.Adam(generator.parameters(), lr = 0.0001)"
      ],
      "execution_count": 0,
      "outputs": []
    },
    {
      "cell_type": "code",
      "metadata": {
        "id": "egsndw8HYAZG",
        "colab_type": "code",
        "outputId": "44e49299-d051-43ac-d7e2-49c6e93fdfc4",
        "colab": {
          "base_uri": "https://localhost:8080/",
          "height": 243
        }
      },
      "source": [
        "# Pretrain Generator using MLE #make the generator generate sentences similar to real sentences\n",
        "print('Pretrain with MLE ...')\n",
        "for epoch in range(PRE_EPOCH_NUM):\n",
        "    loss = train_epoch(generator, questions_data_iter, gen_criterion, gen_optimizer)\n",
        "    if epoch%10 == 0:\n",
        "      print('Epoch [%d] Model Loss: %f'% (epoch, loss))"
      ],
      "execution_count": 0,
      "outputs": [
        {
          "output_type": "stream",
          "text": [
            "Pretrain with MLE ...\n",
            "Epoch [0] Model Loss: 22838.567841\n",
            "Epoch [10] Model Loss: 9.060800\n",
            "Epoch [20] Model Loss: 4.020726\n",
            "Epoch [30] Model Loss: 2.814698\n",
            "Epoch [40] Model Loss: 2.319436\n",
            "Epoch [50] Model Loss: 2.003290\n",
            "Epoch [60] Model Loss: 1.787635\n",
            "Epoch [70] Model Loss: 1.652103\n",
            "Epoch [80] Model Loss: 1.541392\n",
            "Epoch [90] Model Loss: 1.456236\n",
            "Epoch [100] Model Loss: 1.382376\n",
            "Epoch [110] Model Loss: 1.326253\n"
          ],
          "name": "stdout"
        }
      ]
    },
    {
      "cell_type": "code",
      "metadata": {
        "id": "hOualj2xch6B",
        "colab_type": "code",
        "outputId": "61bf7b13-5638-4d18-fc74-9896bde9e2ea",
        "colab": {
          "base_uri": "https://localhost:8080/",
          "height": 35
        }
      },
      "source": [
        "bert_tokenizer.convert_ids_to_tokens(generator.sample(1, 6).tolist()[0])"
      ],
      "execution_count": 0,
      "outputs": [
        {
          "output_type": "execute_result",
          "data": {
            "text/plain": [
              "['[unused584]', '[SEP]', '[PAD]', '[CLS]', 'reservation', 'how']"
            ]
          },
          "metadata": {
            "tags": []
          },
          "execution_count": 31
        }
      ]
    },
    {
      "cell_type": "code",
      "metadata": {
        "id": "E5FnlQU37BtU",
        "colab_type": "code",
        "colab": {}
      },
      "source": [
        "# Discriminator Parameters\n",
        "d_emb_dim = 768 \n",
        "d_filter_sizes = [1, 2, 3, 4, 5, 5, 5, 5, 5, 5, 5, 5]\n",
        "d_num_filters = [100, 200, 200, 200, 200, 100, 100, 100, 100, 100, 160, 160]"
      ],
      "execution_count": 0,
      "outputs": []
    },
    {
      "cell_type": "code",
      "metadata": {
        "id": "JLN9BoWN7BtW",
        "colab_type": "code",
        "colab": {}
      },
      "source": [
        "d_dropout = 0.75\n",
        "d_num_class = 2"
      ],
      "execution_count": 0,
      "outputs": []
    },
    {
      "cell_type": "code",
      "metadata": {
        "id": "B_VzDu9V7Bth",
        "colab_type": "code",
        "colab": {}
      },
      "source": [
        "class GANLoss(nn.Module):\n",
        "    \"\"\"Reward-Refined NLLLoss Function for adversial training of Generator\"\"\"\n",
        "    def __init__(self):\n",
        "        super(GANLoss, self).__init__()\n",
        "\n",
        "    def forward(self, prob, target, reward):\n",
        "        \"\"\"\n",
        "        Args:\n",
        "            prob: (N, C), torch Variable\n",
        "            target : (N, ), torch Variable\n",
        "            reward : (N, ), torch Variable\n",
        "        \"\"\"\n",
        "        N = target.size(0)\n",
        "        C = prob.size(1)\n",
        "        one_hot = torch.zeros((N, C))\n",
        "        one_hot = one_hot.to(device)\n",
        "        one_hot.scatter_(1, target.data.view((-1,1)), 1)\n",
        "        one_hot = one_hot.type(torch.BoolTensor)\n",
        "        one_hot = Variable(one_hot)\n",
        "        one_hot = one_hot.to(device)\n",
        "        loss = torch.masked_select(prob, one_hot)\n",
        "        loss = loss * reward\n",
        "        loss =  -torch.sum(loss)\n",
        "        return loss"
      ],
      "execution_count": 0,
      "outputs": []
    },
    {
      "cell_type": "code",
      "metadata": {
        "id": "VyWyc4D4hPa7",
        "colab_type": "code",
        "colab": {}
      },
      "source": [
        "class Discriminator(nn.Module):\n",
        "    \"\"\"A CNN for text classification\n",
        "\n",
        "    architecture: Embedding >> Convolution >> Max-pooling >> Softmax\n",
        "    \"\"\"\n",
        "\n",
        "    def __init__(self, num_classes, vocab_size, emb_dim, filter_sizes, num_filters, dropout):\n",
        "        super(Discriminator, self).__init__()\n",
        "        #self.emb = nn.Embedding(vocab_size, emb_dim)\n",
        "        self.convs = nn.ModuleList([\n",
        "            nn.Conv2d(1, n, (f, emb_dim)) for (n, f) in zip(num_filters, filter_sizes)\n",
        "        ])\n",
        "        self.highway = nn.Linear(sum(num_filters), sum(num_filters))\n",
        "        self.dropout = nn.Dropout(p=dropout)\n",
        "        self.lin = nn.Linear(sum(num_filters), num_classes)\n",
        "        self.softmax = nn.LogSoftmax(dim = 1)\n",
        "        self.init_parameters()\n",
        "\n",
        "    def forward(self, x):\n",
        "        \"\"\"\n",
        "        Args:\n",
        "            x: (batch_size * seq_len)\n",
        "        \"\"\"\n",
        "        device = torch.device('cuda:0' if torch.cuda. is_available() else 'cpu')\n",
        "        \n",
        "        #emb = self.emb(x).unsqueeze(1).to(device)  # batch_size * 1 * seq_len * emb_dim\n",
        "        emb = bert_embedding(x, x.size(1)).unsqueeze(1).view(BATCH_SIZE, 1, -1, d_emb_dim)\n",
        "        #print(emb.shape)\n",
        "        convs = [F.relu(conv(emb)).squeeze(3).to(device) for conv in self.convs]  # [batch_size * num_filter * length]\n",
        "        pools = [F.max_pool1d(conv, conv.size(2)).squeeze(2).to(device) for conv in convs] # [batch_size * num_filter]\n",
        "        pred = torch.cat(pools, 1).to(device)  # batch_size * num_filters_sum\n",
        "        highway = self.highway(pred).to(device)\n",
        "        pred = torch.sigmoid(highway) *  F.relu(highway) + (1. - torch.sigmoid(highway)) * pred\n",
        "        pred = self.softmax(self.lin(self.dropout(pred))).to(device)\n",
        "        return pred\n",
        "\n",
        "    def init_parameters(self):\n",
        "        for param in self.parameters():\n",
        "            param.data.uniform_(-0.05, 0.05)"
      ],
      "execution_count": 0,
      "outputs": []
    },
    {
      "cell_type": "code",
      "metadata": {
        "id": "irGsBIYzj12m",
        "colab_type": "code",
        "colab": {}
      },
      "source": [
        "from data_iter import DisDataIter"
      ],
      "execution_count": 0,
      "outputs": []
    },
    {
      "cell_type": "code",
      "metadata": {
        "id": "jxUL9ZuB7Btj",
        "colab_type": "code",
        "colab": {}
      },
      "source": [
        "discriminator = Discriminator(d_num_class, bert_tokenizer.vocab_size, d_emb_dim, d_filter_sizes, d_num_filters, d_dropout).to(device)"
      ],
      "execution_count": 0,
      "outputs": []
    },
    {
      "cell_type": "code",
      "metadata": {
        "id": "wAEF5x4Z7Btw",
        "colab_type": "code",
        "colab": {}
      },
      "source": [
        "dis_criterion = nn.NLLLoss(reduction='sum').to(device)\n",
        "dis_optimizer = optim.Adam(discriminator.parameters())"
      ],
      "execution_count": 0,
      "outputs": []
    },
    {
      "cell_type": "code",
      "metadata": {
        "id": "0ECjhhewBQl1",
        "colab_type": "code",
        "outputId": "99193e48-3538-4941-cef7-7594ea2bc4cf",
        "colab": {
          "base_uri": "https://localhost:8080/",
          "height": 295
        }
      },
      "source": [
        "# Pretrain Discriminator\n",
        "print('Pretrain Discriminator ...')\n",
        "for epoch in range(5):\n",
        "    generate_samples(generator, BATCH_SIZE, GENERATED_NUM, NEGATIVE_FILE)\n",
        "    dis_data_iter = DisDataIter(QUESTION_FILE, NEGATIVE_FILE, BATCH_SIZE)\n",
        "    for _ in range(3):\n",
        "        loss = train_epoch(discriminator, dis_data_iter, dis_criterion, dis_optimizer)\n",
        "        print('Epoch [%d], loss: %f' % (epoch, loss))"
      ],
      "execution_count": 0,
      "outputs": [
        {
          "output_type": "stream",
          "text": [
            "Pretrain Discriminator ...\n",
            "Epoch [0], loss: 1.166704\n",
            "Epoch [0], loss: 1.045532\n",
            "Epoch [0], loss: 1.000227\n",
            "Epoch [1], loss: 1.000042\n",
            "Epoch [1], loss: 1.000668\n",
            "Epoch [1], loss: 1.000112\n",
            "Epoch [2], loss: 1.000088\n",
            "Epoch [2], loss: 1.000600\n",
            "Epoch [2], loss: 1.000264\n",
            "Epoch [3], loss: 1.000020\n",
            "Epoch [3], loss: 1.000077\n",
            "Epoch [3], loss: 1.000055\n",
            "Epoch [4], loss: 1.000260\n",
            "Epoch [4], loss: 1.001459\n",
            "Epoch [4], loss: 1.000147\n"
          ],
          "name": "stdout"
        }
      ]
    },
    {
      "cell_type": "code",
      "metadata": {
        "id": "CJaL865cEmiM",
        "colab_type": "code",
        "colab": {}
      },
      "source": [
        "test_sentences = generator.sample(64, 6)"
      ],
      "execution_count": 0,
      "outputs": []
    },
    {
      "cell_type": "code",
      "metadata": {
        "id": "031JRmfwFpwm",
        "colab_type": "code",
        "outputId": "e406bba7-f507-4040-8919-23eefa2072a1",
        "colab": {
          "base_uri": "https://localhost:8080/",
          "height": 69
        }
      },
      "source": [
        "nn.Softmax(dim = 1)(discriminator(test_sentences)).argmax(dim = 1)"
      ],
      "execution_count": 0,
      "outputs": [
        {
          "output_type": "execute_result",
          "data": {
            "text/plain": [
              "tensor([0, 0, 0, 0, 0, 0, 0, 0, 0, 0, 0, 0, 0, 0, 0, 0, 0, 0, 0, 0, 0, 0, 0, 0,\n",
              "        0, 0, 0, 0, 0, 0, 0, 0, 0, 0, 0, 0, 0, 0, 0, 0, 0, 0, 0, 0, 0, 0, 0, 0,\n",
              "        0, 0, 0, 0, 0, 0, 0, 0, 0, 0, 0, 0, 0, 0, 0, 0])"
            ]
          },
          "metadata": {
            "tags": []
          },
          "execution_count": 63
        }
      ]
    },
    {
      "cell_type": "code",
      "metadata": {
        "id": "GVmVdtgMGIB2",
        "colab_type": "code",
        "colab": {}
      },
      "source": [
        "class Rollout(object):\n",
        "    \"\"\"Roll-out policy\"\"\"\n",
        "    def __init__(self, model, update_rate):\n",
        "        self.ori_model = model\n",
        "        self.own_model = copy.deepcopy(model)\n",
        "        self.update_rate = update_rate\n",
        "\n",
        "    def get_reward(self, x, num, discriminator):\n",
        "        \"\"\"\n",
        "        Args:\n",
        "            x : (batch_size, seq_len) input data\n",
        "            num : roll-out number\n",
        "            discriminator : discrimanator model\n",
        "        \"\"\"\n",
        "        rewards = []\n",
        "        batch_size = x.size(0)\n",
        "        seq_len = x.size(1)\n",
        "        for i in range(num):\n",
        "            for l in range(1, seq_len):\n",
        "                data = x[:, 0:l]\n",
        "                samples = self.own_model.sample(batch_size, seq_len, data)\n",
        "                pred = discriminator(samples)\n",
        "                pred = pred.cpu().data[:,1].numpy()\n",
        "                if i == 0:\n",
        "                    rewards.append(pred)\n",
        "                else:\n",
        "                    rewards[l-1] += pred\n",
        "\n",
        "            # for the last token\n",
        "            pred = discriminator(x)\n",
        "            pred = pred.cpu().data[:, 1].numpy()\n",
        "            if i == 0:\n",
        "                rewards.append(pred)\n",
        "            else:\n",
        "                rewards[seq_len-1] += pred\n",
        "        rewards = np.transpose(np.array(rewards)) / (1.0 * num) # batch_size * seq_len\n",
        "        return rewards\n",
        "\n",
        "    def update_params(self):\n",
        "        dic = {}\n",
        "        for name, param in self.ori_model.named_parameters():\n",
        "            dic[name] = param.data\n",
        "        for name, param in self.own_model.named_parameters():\n",
        "            if name.startswith('emb'):\n",
        "                param.data = dic[name]\n",
        "            else:\n",
        "                param.data = self.update_rate * param.data + (1 - self.update_rate) * dic[name]"
      ],
      "execution_count": 0,
      "outputs": []
    },
    {
      "cell_type": "code",
      "metadata": {
        "id": "NBVLaEEPBKuS",
        "colab_type": "code",
        "outputId": "687d79f9-62b9-4f1e-969e-4168066af2b6",
        "colab": {
          "base_uri": "https://localhost:8080/",
          "height": 52
        }
      },
      "source": [
        "# Adversarial Training\n",
        "rollout = Rollout(generator, 0.8)\n",
        "print('Start Adeversatial Training...\\n')\n",
        "gen_gan_loss = GANLoss()\n",
        "gen_gan_optm = optim.Adam(generator.parameters())\n",
        "gen_gan_loss = gen_gan_loss.to(device)\n",
        "gen_criterion = nn.NLLLoss(reduction='sum').to(device)\n",
        "dis_criterion = nn.NLLLoss(reduction='sum').to(device)\n",
        "dis_optimizer = optim.Adam(discriminator.parameters())"
      ],
      "execution_count": 0,
      "outputs": [
        {
          "output_type": "stream",
          "text": [
            "Start Adeversatial Training...\n",
            "\n"
          ],
          "name": "stdout"
        }
      ]
    },
    {
      "cell_type": "code",
      "metadata": {
        "id": "9f-qtIpvg1gh",
        "colab_type": "code",
        "colab": {}
      },
      "source": [
        "samples = generator.sample(BATCH_SIZE, g_sequence_len)\n",
        "zeros = torch.zeros((BATCH_SIZE, 1)).type(torch.LongTensor).to(device)\n",
        "inputs = Variable(torch.cat([zeros, samples.data], dim = 1)[:, :-1].contiguous())\n",
        "targets = Variable(samples.data).contiguous().view((-1,))\n",
        "rewards = rollout.get_reward(samples, 16, discriminator)\n",
        "rewards = Variable(torch.Tensor(rewards))\n",
        "rewards = torch.exp(rewards).contiguous().view((-1,))\n",
        "rewards = rewards.to(device)\n",
        "prob = generator.forward(inputs)"
      ],
      "execution_count": 0,
      "outputs": []
    },
    {
      "cell_type": "code",
      "metadata": {
        "id": "iV1rJcT-X6YA",
        "colab_type": "code",
        "colab": {}
      },
      "source": [
        "from tqdm import tqdm_notebook"
      ],
      "execution_count": 0,
      "outputs": []
    },
    {
      "cell_type": "code",
      "metadata": {
        "id": "XuuxSy64G9SA",
        "colab_type": "code",
        "outputId": "5d9a214f-ff54-4990-e4d5-2074fcf44ef8",
        "colab": {
          "base_uri": "https://localhost:8080/",
          "height": 191,
          "referenced_widgets": [
            "0dc4659ec9714836990d2a83f9a7f4cb",
            "999be904dbdb44e196af175037659b89",
            "704c09ecfd4f47d38c0fc7861ed1f8fb",
            "d1df2bce2ff54578b60015f96c7e91de",
            "4a3f3ce8887a44869eee7f7ae0638ea7",
            "32475c4a4be2414aa2929fe61147d189",
            "36db582cfc46484aa4112a64954d56c5",
            "903fd2501e11479cb6157d5a185b063e"
          ]
        }
      },
      "source": [
        "for total_batch in tqdm_notebook(range(TOTAL_BATCH)):\n",
        "    ## Train the generator for one step\n",
        "\n",
        "    for it in range(1):\n",
        "        samples = generator.sample(BATCH_SIZE, g_sequence_len)\n",
        "        # construct the input to the genrator, add zeros before samples and delete the last column\n",
        "        zeros = torch.zeros((BATCH_SIZE, 1)).type(torch.LongTensor).to(device)\n",
        "\n",
        "        inputs = Variable(torch.cat([zeros, samples.data], dim = 1)[:, :-1].contiguous())\n",
        "        targets = Variable(samples.data).contiguous().view((-1,))\n",
        "        # calculate the reward\n",
        "        rewards = rollout.get_reward(samples, 16, discriminator)\n",
        "        rewards = Variable(torch.Tensor(rewards))\n",
        "        rewards = torch.exp(rewards).contiguous().view((-1,))\n",
        "        rewards = rewards.to(device)\n",
        "        prob = generator.forward(inputs)\n",
        "        loss = gen_gan_loss(prob, targets, rewards)\n",
        "        gen_gan_optm.zero_grad()\n",
        "        loss.backward()\n",
        "        gen_gan_optm.step()\n",
        "\n",
        "        if total_batch % 20 == 0:\n",
        "          print('Loss when TOTAL_BATCH = {} is {}'.format(total_batch, loss))\n",
        "\n",
        "    for _ in range(4):\n",
        "        generate_samples(generator, BATCH_SIZE, GENERATED_NUM, NEGATIVE_FILE)\n",
        "        dis_data_iter = DisDataIter(QUESTION_FILE, NEGATIVE_FILE, BATCH_SIZE)\n",
        "        for _ in range(2):\n",
        "            loss = train_epoch(discriminator, dis_data_iter, dis_criterion, dis_optimizer)\n",
        "\n",
        "    if total_batch % 20 == 0:\n",
        "      print('Saving Generator and Discriminator')\n",
        "      torch.save(generator, 'generator_model.pt')\n",
        "      torch.save(discriminator, 'discriminator_model.pt')"
      ],
      "execution_count": 0,
      "outputs": [
        {
          "output_type": "display_data",
          "data": {
            "application/vnd.jupyter.widget-view+json": {
              "model_id": "0dc4659ec9714836990d2a83f9a7f4cb",
              "version_minor": 0,
              "version_major": 2
            },
            "text/plain": [
              "HBox(children=(IntProgress(value=0, max=200), HTML(value='')))"
            ]
          },
          "metadata": {
            "tags": []
          }
        },
        {
          "output_type": "stream",
          "text": [
            "Loss when TOTAL_BATCH = 0 is -0.0\n",
            "Saving Generator and Discriminator\n"
          ],
          "name": "stdout"
        },
        {
          "output_type": "stream",
          "text": [
            "/usr/local/lib/python3.6/dist-packages/torch/serialization.py:360: UserWarning: Couldn't retrieve source code for container of type Generator. It won't be checked for correctness upon loading.\n",
            "  \"type \" + obj.__name__ + \". It won't be checked \"\n",
            "/usr/local/lib/python3.6/dist-packages/torch/serialization.py:360: UserWarning: Couldn't retrieve source code for container of type Discriminator. It won't be checked for correctness upon loading.\n",
            "  \"type \" + obj.__name__ + \". It won't be checked \"\n"
          ],
          "name": "stderr"
        },
        {
          "output_type": "stream",
          "text": [
            "Loss when TOTAL_BATCH = 20 is -0.0\n"
          ],
          "name": "stdout"
        }
      ]
    },
    {
      "cell_type": "code",
      "metadata": {
        "id": "aOYZ_xl9Vdln",
        "colab_type": "code",
        "colab": {}
      },
      "source": [
        ""
      ],
      "execution_count": 0,
      "outputs": []
    }
  ]
}